{
 "metadata": {
  "language_info": {
   "codemirror_mode": {
    "name": "ipython",
    "version": 3
   },
   "file_extension": ".py",
   "mimetype": "text/x-python",
   "name": "python",
   "nbconvert_exporter": "python",
   "pygments_lexer": "ipython3",
   "version": "3.8.3-final"
  },
  "orig_nbformat": 2,
  "kernelspec": {
   "name": "python3",
   "display_name": "Python 3"
  }
 },
 "nbformat": 4,
 "nbformat_minor": 2,
 "cells": [
  {
   "cell_type": "code",
   "execution_count": 78,
   "metadata": {},
   "outputs": [],
   "source": [
    "#Dependencies\n",
    "import requests\n",
    "import json\n",
    "from config import ow_api\n",
    "import matplotlib.pyplot as plt \n",
    "from citipy import citipy\n",
    "import pandas as pd \n",
    "import numpy as np "
   ]
  },
  {
   "cell_type": "code",
   "execution_count": 79,
   "metadata": {
    "tags": []
   },
   "outputs": [],
   "source": [
    "#Get random coordinates\n",
    "rand_lat = np.random.uniform(-90,high=90,size=(1750,1))\n",
    "rand_lon = np.random.uniform(-180,high=180,size=(1750,1))\n",
    "#print(rand_lat)"
   ]
  },
  {
   "cell_type": "code",
   "execution_count": 80,
   "metadata": {
    "tags": []
   },
   "outputs": [],
   "source": [
    "#Get list of random cities\n",
    "cities = [citipy.nearest_city(rand_lat[i],rand_lon[i]) for i in range(len(rand_lat))]\n",
    "city_names = [cities[i].city_name for i in range(len(cities))]\n",
    "#print(city_names)"
   ]
  },
  {
   "cell_type": "code",
   "execution_count": 81,
   "metadata": {
    "tags": []
   },
   "outputs": [
    {
     "output_type": "stream",
     "name": "stdout",
     "text": "688\n"
    }
   ],
   "source": [
    "#Dedupe cities and make sure there are more than 500\n",
    "dedupe_cities = list(dict.fromkeys(city_names))\n",
    "print(len(dedupe_cities))"
   ]
  },
  {
   "cell_type": "code",
   "execution_count": 82,
   "metadata": {
    "tags": []
   },
   "outputs": [
    {
     "output_type": "stream",
     "name": "stdout",
     "text": "{\n    \"base\": \"stations\",\n    \"clouds\": {\n        \"all\": 98\n    },\n    \"cod\": 200,\n    \"coord\": {\n        \"lat\": 10.35,\n        \"lon\": 107.08\n    },\n    \"dt\": 1599342226,\n    \"id\": 1562414,\n    \"main\": {\n        \"feels_like\": 87.64,\n        \"grnd_level\": 1006,\n        \"humidity\": 81,\n        \"pressure\": 1007,\n        \"sea_level\": 1007,\n        \"temp\": 81.41,\n        \"temp_max\": 81.41,\n        \"temp_min\": 81.41\n    },\n    \"name\": \"Vung Tau\",\n    \"sys\": {\n        \"country\": \"VN\",\n        \"sunrise\": 1599345729,\n        \"sunset\": 1599389899\n    },\n    \"timezone\": 25200,\n    \"visibility\": 10000,\n    \"weather\": [\n        {\n            \"description\": \"overcast clouds\",\n            \"icon\": \"04n\",\n            \"id\": 804,\n            \"main\": \"Clouds\"\n        }\n    ],\n    \"wind\": {\n        \"deg\": 260,\n        \"speed\": 7.31\n    }\n}\n"
    }
   ],
   "source": [
    "#Use first city to determine json structure\n",
    "test_url = f\"http://api.openweathermap.org/data/2.5/weather?q={dedupe_cities[0]}&appid={ow_api}&units=imperial\"\n",
    "response = requests.get(test_url).json()\n",
    "print(json.dumps(response,indent=4,sort_keys=True))"
   ]
  },
  {
   "cell_type": "code",
   "execution_count": 83,
   "metadata": {},
   "outputs": [
    {
     "output_type": "execute_result",
     "data": {
      "text/plain": "        Cities Lat Lon Temp (F) Humidity (%) Cloudiness (%) Wind Speed (mph)\n0     vung tau                                                              \n1  nizhneyansk                                                              \n2      qaanaaq                                                              \n3      rikitea                                                              \n4    jamestown                                                              ",
      "text/html": "<div>\n<style scoped>\n    .dataframe tbody tr th:only-of-type {\n        vertical-align: middle;\n    }\n\n    .dataframe tbody tr th {\n        vertical-align: top;\n    }\n\n    .dataframe thead th {\n        text-align: right;\n    }\n</style>\n<table border=\"1\" class=\"dataframe\">\n  <thead>\n    <tr style=\"text-align: right;\">\n      <th></th>\n      <th>Cities</th>\n      <th>Lat</th>\n      <th>Lon</th>\n      <th>Temp (F)</th>\n      <th>Humidity (%)</th>\n      <th>Cloudiness (%)</th>\n      <th>Wind Speed (mph)</th>\n    </tr>\n  </thead>\n  <tbody>\n    <tr>\n      <th>0</th>\n      <td>vung tau</td>\n      <td></td>\n      <td></td>\n      <td></td>\n      <td></td>\n      <td></td>\n      <td></td>\n    </tr>\n    <tr>\n      <th>1</th>\n      <td>nizhneyansk</td>\n      <td></td>\n      <td></td>\n      <td></td>\n      <td></td>\n      <td></td>\n      <td></td>\n    </tr>\n    <tr>\n      <th>2</th>\n      <td>qaanaaq</td>\n      <td></td>\n      <td></td>\n      <td></td>\n      <td></td>\n      <td></td>\n      <td></td>\n    </tr>\n    <tr>\n      <th>3</th>\n      <td>rikitea</td>\n      <td></td>\n      <td></td>\n      <td></td>\n      <td></td>\n      <td></td>\n      <td></td>\n    </tr>\n    <tr>\n      <th>4</th>\n      <td>jamestown</td>\n      <td></td>\n      <td></td>\n      <td></td>\n      <td></td>\n      <td></td>\n      <td></td>\n    </tr>\n  </tbody>\n</table>\n</div>"
     },
     "metadata": {},
     "execution_count": 83
    }
   ],
   "source": [
    "#Create dataframe to hold information\n",
    "citydata_df = pd.DataFrame({\"Cities\":dedupe_cities})\n",
    "\n",
    "#Add columns to dataframe\n",
    "citydata_df[\"Lat\"] = \"\"\n",
    "citydata_df[\"Lon\"] = \"\"\n",
    "citydata_df[\"Temp (F)\"] = \"\"\n",
    "citydata_df[\"Humidity (%)\"] = \"\"\n",
    "citydata_df[\"Cloudiness (%)\"] = \"\"\n",
    "citydata_df[\"Wind Speed (mph)\"] = \"\"\n",
    "\n",
    "citydata_df.head()"
   ]
  },
  {
   "cell_type": "code",
   "execution_count": 84,
   "metadata": {
    "tags": [
     "outputPrepend"
    ]
   },
   "outputs": [
    {
     "output_type": "stream",
     "name": "stdout",
     "text": "--------\nRetrieving results for Index 493: plettenberg bay...\nFound city Plettenberg Bay, City ID No.: 964712\n-------------\nRetrieving results for Index 494: verkhnyaya inta...\nFound city Verkhnyaya Inta, City ID No.: 1487332\n-------------\nRetrieving results for Index 495: le port...\nFound city Le Port, City ID No.: 935616\n-------------\nRetrieving results for Index 496: vestmannaeyjar...\nFound city Vestmannaeyjar, City ID No.: 3412093\n-------------\nRetrieving results for Index 497: marsh harbour...\nFound city Marsh Harbour, City ID No.: 3571913\n-------------\nRetrieving results for Index 498: altamira...\nFound city Altamira, City ID No.: 3407882\n-------------\nRetrieving results for Index 499: ilulissat...\nFound city Ilulissat, City ID No.: 3423146\n-------------\nRetrieving results for Index 500: duz...\nMissing field/result ... skipping ...\n-------------\nRetrieving results for Index 501: newcastle...\nFound city Newcastle, City ID No.: 2155472\n-------------\nRetrieving results for Index 502: la orilla...\nFound city La Orilla, City ID No.: 4001056\n-------------\nRetrieving results for Index 503: aripuana...\nFound city Aripuana, City ID No.: 3665202\n-------------\nRetrieving results for Index 504: gao...\nFound city Gao, City ID No.: 2457163\n-------------\nRetrieving results for Index 505: hailin...\nFound city Hailin, City ID No.: 2037075\n-------------\nRetrieving results for Index 506: nelson bay...\nFound city Nelson Bay, City ID No.: 2155562\n-------------\nRetrieving results for Index 507: kyabe...\nFound city Kyabe, City ID No.: 2429344\n-------------\nRetrieving results for Index 508: bloemfontein...\nFound city Bloemfontein, City ID No.: 1018725\n-------------\nRetrieving results for Index 509: salalah...\nFound city Salalah, City ID No.: 286621\n-------------\nRetrieving results for Index 510: karratha...\nFound city Karratha, City ID No.: 6620339\n-------------\nRetrieving results for Index 511: ardakan...\nFound city Ardakan, City ID No.: 143073\n-------------\nRetrieving results for Index 512: mnogovershinnyy...\nFound city Mnogovershinnyy, City ID No.: 2019935\n-------------\nRetrieving results for Index 513: grand gaube...\nFound city Grand Gaube, City ID No.: 934479\n-------------\nRetrieving results for Index 514: sibu...\nFound city Sibu, City ID No.: 1735902\n-------------\nRetrieving results for Index 515: sioux lookout...\nFound city Sioux Lookout, City ID No.: 6148373\n-------------\nRetrieving results for Index 516: enshi...\nFound city Enshi, City ID No.: 1811720\n-------------\nRetrieving results for Index 517: posse...\nFound city Posse, City ID No.: 3452599\n-------------\nRetrieving results for Index 518: sinegorye...\nFound city Sinegorye, City ID No.: 2121197\n-------------\nRetrieving results for Index 519: vaitupu...\nMissing field/result ... skipping ...\n-------------\nRetrieving results for Index 520: les cayes...\nFound city Les Cayes, City ID No.: 3728097\n-------------\nRetrieving results for Index 521: suhbaatar...\nFound city Suhbaatar, City ID No.: 2029156\n-------------\nRetrieving results for Index 522: durban...\nFound city Durban, City ID No.: 1007311\n-------------\nRetrieving results for Index 523: bereda...\nMissing field/result ... skipping ...\n-------------\nRetrieving results for Index 524: mahajanga...\nFound city Mahajanga, City ID No.: 1062663\n-------------\nRetrieving results for Index 525: khani...\nMissing field/result ... skipping ...\n-------------\nRetrieving results for Index 526: matara...\nFound city Matara, City ID No.: 1235846\n-------------\nRetrieving results for Index 527: lieksa...\nFound city Lieksa, City ID No.: 648090\n-------------\nRetrieving results for Index 528: scottsburgh...\nMissing field/result ... skipping ...\n-------------\nRetrieving results for Index 529: taoudenni...\nFound city Taoudenni, City ID No.: 2450173\n-------------\nRetrieving results for Index 530: mortka...\nFound city Mortka, City ID No.: 1498402\n-------------\nRetrieving results for Index 531: dibaya...\nMissing field/result ... skipping ...\n-------------\nRetrieving results for Index 532: quatre cocos...\nFound city Quatre Cocos, City ID No.: 1106643\n-------------\nRetrieving results for Index 533: ixtapa...\nFound city Ixtapa, City ID No.: 4004293\n-------------\nRetrieving results for Index 534: singkang...\nMissing field/result ... skipping ...\n-------------\nRetrieving results for Index 535: canarana...\nFound city Canarana, City ID No.: 3467604\n-------------\nRetrieving results for Index 536: seaham...\nFound city Seaham, City ID No.: 2638302\n-------------\nRetrieving results for Index 537: ostrovnoy...\nFound city Ostrovnoy, City ID No.: 556268\n-------------\nRetrieving results for Index 538: hualmay...\nFound city Hualmay, City ID No.: 3939761\n-------------\nRetrieving results for Index 539: morondava...\nFound city Morondava, City ID No.: 1058381\n-------------\nRetrieving results for Index 540: general roca...\nFound city General Roca, City ID No.: 3855065\n-------------\nRetrieving results for Index 541: novi pazar...\nFound city Novi Pazar, City ID No.: 787595\n-------------\nRetrieving results for Index 542: fairbanks...\nFound city Fairbanks, City ID No.: 5861897\n-------------\nRetrieving results for Index 543: roald...\nFound city Roald, City ID No.: 3141667\n-------------\nRetrieving results for Index 544: mayo...\nFound city Mayo, City ID No.: 4362001\n-------------\nRetrieving results for Index 545: kuala terengganu...\nFound city Kuala Terengganu, City ID No.: 1734705\n-------------\nRetrieving results for Index 546: leua...\nFound city Leua, City ID No.: 876233\n-------------\nRetrieving results for Index 547: kyabram...\nFound city Kyabram, City ID No.: 2160910\n-------------\nRetrieving results for Index 548: conde...\nFound city Conde, City ID No.: 3385077\n-------------\nRetrieving results for Index 549: payakumbuh...\nFound city Payakumbuh, City ID No.: 1631905\n-------------\nRetrieving results for Index 550: muisne...\nFound city Muisne, City ID No.: 3653967\n-------------\nRetrieving results for Index 551: waipawa...\nFound city Waipawa, City ID No.: 2206874\n-------------\nRetrieving results for Index 552: gorontalo...\nFound city Gorontalo, City ID No.: 1643837\n-------------\nRetrieving results for Index 553: tambacounda...\nFound city Tambacounda, City ID No.: 2244991\n-------------\nRetrieving results for Index 554: zilair...\nFound city Zilair, City ID No.: 462626\n-------------\nRetrieving results for Index 555: limoges...\nFound city Limoges, City ID No.: 2998286\n-------------\nRetrieving results for Index 556: tretten...\nFound city Tretten, City ID No.: 3134016\n-------------\nRetrieving results for Index 557: qandala...\nFound city Qandala, City ID No.: 53157\n-------------\nRetrieving results for Index 558: tieling...\nFound city Tieling, City ID No.: 2034439\n-------------\nRetrieving results for Index 559: rudbar...\nFound city Rudbar, City ID No.: 1128239\n-------------\nRetrieving results for Index 560: grants pass...\nFound city Grants Pass, City ID No.: 5729080\n-------------\nRetrieving results for Index 561: halalo...\nMissing field/result ... skipping ...\n-------------\nRetrieving results for Index 562: meulaboh...\nFound city Meulaboh, City ID No.: 1214488\n-------------\nRetrieving results for Index 563: haines junction...\nFound city Haines Junction, City ID No.: 5969025\n-------------\nRetrieving results for Index 564: aventura...\nFound city Aventura, City ID No.: 4146429\n-------------\nRetrieving results for Index 565: pedro juan caballero...\nFound city Pedro Juan Caballero, City ID No.: 3437547\n-------------\nRetrieving results for Index 566: awbari...\nFound city Awbari, City ID No.: 2219235\n-------------\nRetrieving results for Index 567: gazanjyk...\nFound city Gazanjyk, City ID No.: 161974\n-------------\nRetrieving results for Index 568: hambantota...\nFound city Hambantota, City ID No.: 1244926\n-------------\nRetrieving results for Index 569: campoverde...\nFound city Campoverde, City ID No.: 3733380\n-------------\nRetrieving results for Index 570: umm lajj...\nFound city Umm Lajj, City ID No.: 100926\n-------------\nRetrieving results for Index 571: domoni...\nFound city Domoni, City ID No.: 921906\n-------------\nRetrieving results for Index 572: vila franca do campo...\nFound city Vila Franca do Campo, City ID No.: 3372472\n-------------\nRetrieving results for Index 573: umm kaddadah...\nFound city Umm Kaddadah, City ID No.: 364933\n-------------\nRetrieving results for Index 574: mackenzie...\nFound city Mackenzie, City ID No.: 6063191\n-------------\nRetrieving results for Index 575: cuautepec...\nFound city Cuautepec, City ID No.: 3529994\n-------------\nRetrieving results for Index 576: mehamn...\nFound city Mehamn, City ID No.: 778707\n-------------\nRetrieving results for Index 577: lewiston...\nFound city Lewiston, City ID No.: 4969398\n-------------\nRetrieving results for Index 578: coquimbo...\nFound city Coquimbo, City ID No.: 3893629\n-------------\nRetrieving results for Index 579: umzimvubu...\nMissing field/result ... skipping ...\n-------------\nRetrieving results for Index 580: praia da vitoria...\nFound city Praia da Vitoria, City ID No.: 3373348\n-------------\nRetrieving results for Index 581: nuevo progreso...\nFound city Nuevo Progreso, City ID No.: 3522526\n-------------\nRetrieving results for Index 582: kon tum...\nFound city Kon Tum, City ID No.: 1578500\n-------------\nRetrieving results for Index 583: palmer...\nFound city Palmer, City ID No.: 4946620\n-------------\nRetrieving results for Index 584: paluan...\nFound city Paluan, City ID No.: 1695982\n-------------\nRetrieving results for Index 585: giyani...\nFound city Giyani, City ID No.: 1001860\n-------------\nRetrieving results for Index 586: yantal...\nFound city Yantal, City ID No.: 2055868\n-------------\nRetrieving results for Index 587: kamaishi...\nFound city Kamaishi, City ID No.: 2112444\n-------------\nRetrieving results for Index 588: te anau...\nFound city Te Anau, City ID No.: 2181625\n-------------\nRetrieving results for Index 589: tororo...\nFound city Tororo, City ID No.: 226110\n-------------\nRetrieving results for Index 590: gold coast...\nFound city Gold Coast, City ID No.: 2165087\n-------------\nRetrieving results for Index 591: teguise...\nFound city Teguise, City ID No.: 2510573\n-------------\nRetrieving results for Index 592: srednekolymsk...\nFound city Srednekolymsk, City ID No.: 2121025\n-------------\nRetrieving results for Index 593: santa elena...\nFound city Santa Elena, City ID No.: 3651438\n-------------\nRetrieving results for Index 594: valparaiso...\nFound city Valparaiso, City ID No.: 3868121\n-------------\nRetrieving results for Index 595: mongoumba...\nFound city Mongoumba, City ID No.: 2384377\n-------------\nRetrieving results for Index 596: montevideo...\nFound city Montevideo, City ID No.: 3441575\n-------------\nRetrieving results for Index 597: kuching...\nFound city Kuching, City ID No.: 1735634\n-------------\nRetrieving results for Index 598: doctor arroyo...\nFound city Doctor Arroyo, City ID No.: 4011873\n-------------\nRetrieving results for Index 599: jalu...\nMissing field/result ... skipping ...\n-------------\nRetrieving results for Index 600: hatta...\nFound city Hatta, City ID No.: 1270185\n-------------\nRetrieving results for Index 601: thaba-tseka...\nFound city Thaba-Tseka, City ID No.: 1106835\n-------------\nRetrieving results for Index 602: sawang daen din...\nFound city Sawang Daen Din, City ID No.: 1606350\n-------------\nRetrieving results for Index 603: bayeux...\nFound city Bayeux, City ID No.: 3405940\n-------------\nRetrieving results for Index 604: camacha...\nFound city Camacha, City ID No.: 2270385\n-------------\nRetrieving results for Index 605: popondetta...\nFound city Popondetta, City ID No.: 2088163\n-------------\nRetrieving results for Index 606: haibowan...\nMissing field/result ... skipping ...\n-------------\nRetrieving results for Index 607: jacaleapa...\nFound city Jacaleapa, City ID No.: 3608798\n-------------\nRetrieving results for Index 608: safranbolu...\nFound city Safranbolu, City ID No.: 740430\n-------------\nRetrieving results for Index 609: vila...\nFound city Vila, City ID No.: 7117100\n-------------\nRetrieving results for Index 610: maldonado...\nFound city Maldonado, City ID No.: 3441894\n-------------\nRetrieving results for Index 611: bismarck...\nFound city Bismarck, City ID No.: 5688025\n-------------\nRetrieving results for Index 612: sechura...\nFound city Sechura, City ID No.: 3691954\n-------------\nRetrieving results for Index 613: aflu...\nMissing field/result ... skipping ...\n-------------\nRetrieving results for Index 614: mananjary...\nFound city Mananjary, City ID No.: 1061335\n-------------\nRetrieving results for Index 615: shingu...\nFound city Shingu, City ID No.: 1847947\n-------------\nRetrieving results for Index 616: the valley...\nFound city The Valley, City ID No.: 3573374\n-------------\nRetrieving results for Index 617: ambatolampy...\nFound city Ambatolampy, City ID No.: 1082992\n-------------\nRetrieving results for Index 618: gazojak...\nFound city Gazojak, City ID No.: 1514792\n-------------\nRetrieving results for Index 619: ewa beach...\nFound city Ewa Beach, City ID No.: 5856194\n-------------\nRetrieving results for Index 620: cap malheureux...\nFound city Cap Malheureux, City ID No.: 934649\n-------------\nRetrieving results for Index 621: kirkwall...\nFound city Kirkwall, City ID No.: 2645198\n-------------\nRetrieving results for Index 622: kayerkan...\nMissing field/result ... skipping ...\n-------------\nRetrieving results for Index 623: juneau...\nFound city Juneau, City ID No.: 5554072\n-------------\nRetrieving results for Index 624: chambersburg...\nFound city Chambersburg, City ID No.: 4557109\n-------------\nRetrieving results for Index 625: ulaangom...\nFound city Ulaangom, City ID No.: 1515029\n-------------\nRetrieving results for Index 626: bur gabo...\nMissing field/result ... skipping ...\n-------------\nRetrieving results for Index 627: dzhusaly...\nMissing field/result ... skipping ...\n-------------\nRetrieving results for Index 628: elko...\nFound city Elko, City ID No.: 5703670\n-------------\nRetrieving results for Index 629: cooma...\nFound city Cooma, City ID No.: 2170577\n-------------\nRetrieving results for Index 630: belyy yar...\nFound city Belyy Yar, City ID No.: 1510377\n-------------\nRetrieving results for Index 631: pankrushikha...\nFound city Pankrushikha, City ID No.: 1495613\n-------------\nRetrieving results for Index 632: palana...\nFound city Palana, City ID No.: 2122262\n-------------\nRetrieving results for Index 633: raymond...\nFound city Raymond, City ID No.: 4976361\n-------------\nRetrieving results for Index 634: thanh hoa...\nFound city Thanh Hoa, City ID No.: 1566166\n-------------\nRetrieving results for Index 635: los llanos de aridane...\nFound city Los Llanos de Aridane, City ID No.: 2514651\n-------------\nRetrieving results for Index 636: tzucacab...\nFound city Tzucacab, City ID No.: 3514961\n-------------\nRetrieving results for Index 637: batticaloa...\nFound city Batticaloa, City ID No.: 1250161\n-------------\nRetrieving results for Index 638: kazachinskoye...\nFound city Kazachinskoye, City ID No.: 1504075\n-------------\nRetrieving results for Index 639: zarubino...\nFound city Zarubino, City ID No.: 2012646\n-------------\nRetrieving results for Index 640: tomigusuku...\nFound city Tomigusuku, City ID No.: 1850108\n-------------\nRetrieving results for Index 641: newport...\nFound city Newport, City ID No.: 2641598\n-------------\nRetrieving results for Index 642: myitkyina...\nFound city Myitkyina, City ID No.: 1307741\n-------------\nRetrieving results for Index 643: zhanaozen...\nFound city Zhanaozen, City ID No.: 607610\n-------------\nRetrieving results for Index 644: rocha...\nFound city Rocha, City ID No.: 3440777\n-------------\nRetrieving results for Index 645: lolua...\nMissing field/result ... skipping ...\n-------------\nRetrieving results for Index 646: takab...\nFound city Takab, City ID No.: 113508\n-------------\nRetrieving results for Index 647: strezhevoy...\nFound city Strezhevoy, City ID No.: 1490796\n-------------\nRetrieving results for Index 648: loa janan...\nFound city Loa Janan, City ID No.: 1637510\n-------------\nRetrieving results for Index 649: chumikan...\nFound city Chumikan, City ID No.: 2025256\n-------------\nRetrieving results for Index 650: jiaocheng...\nFound city Jiaocheng, City ID No.: 1806041\n-------------\nRetrieving results for Index 651: camana...\nFound city Camana, City ID No.: 3945985\n-------------\nRetrieving results for Index 652: dubbo...\nFound city Dubbo, City ID No.: 2168305\n-------------\nRetrieving results for Index 653: rolla...\nFound city Rolla, City ID No.: 4406282\n-------------\nRetrieving results for Index 654: karamea...\nMissing field/result ... skipping ...\n-------------\nRetrieving results for Index 655: santiago del estero...\nFound city Santiago del Estero, City ID No.: 3835869\n-------------\nRetrieving results for Index 656: gigmoto...\nFound city Gigmoto, City ID No.: 1712961\n-------------\nRetrieving results for Index 657: witu...\nFound city Witu, City ID No.: 178093\n-------------\nRetrieving results for Index 658: police...\nFound city Police, City ID No.: 3088461\n-------------\nRetrieving results for Index 659: la romana...\nFound city La Romana, City ID No.: 3500957\n-------------\nRetrieving results for Index 660: tahe...\nFound city Tahe, City ID No.: 2034615\n-------------\nRetrieving results for Index 661: salvador...\nFound city Salvador, City ID No.: 3450554\n-------------\nRetrieving results for Index 662: maumere...\nFound city Maumere, City ID No.: 1635815\n-------------\nRetrieving results for Index 663: anadyr...\nFound city Anadyr, City ID No.: 2127202\n-------------\nRetrieving results for Index 664: asfi...\nMissing field/result ... skipping ...\n-------------\nRetrieving results for Index 665: batemans bay...\nFound city Batemans Bay, City ID No.: 2176639\n-------------\nRetrieving results for Index 666: maniitsoq...\nFound city Maniitsoq, City ID No.: 3421982\n-------------\nRetrieving results for Index 667: coihaique...\nFound city Coihaique, City ID No.: 3894426\n-------------\nRetrieving results for Index 668: flin flon...\nFound city Flin Flon, City ID No.: 5954718\n-------------\nRetrieving results for Index 669: pergamino...\nFound city Pergamino, City ID No.: 3841490\n-------------\nRetrieving results for Index 670: ibirama...\nFound city Ibirama, City ID No.: 3461576\n-------------\nRetrieving results for Index 671: ormara...\nFound city Ormara, City ID No.: 1168700\n-------------\nRetrieving results for Index 672: sulangan...\nFound city Sulangan, City ID No.: 1685422\n-------------\nRetrieving results for Index 673: zhezkazgan...\nMissing field/result ... skipping ...\n-------------\nRetrieving results for Index 674: sayyan...\nFound city Sayyan, City ID No.: 70979\n-------------\nRetrieving results for Index 675: nizhniy baskunchak...\nFound city Nizhniy Baskunchak, City ID No.: 520798\n-------------\nRetrieving results for Index 676: coos bay...\nFound city Coos Bay, City ID No.: 5720495\n-------------\nRetrieving results for Index 677: kaeo...\nFound city Kaeo, City ID No.: 2189343\n-------------\nRetrieving results for Index 678: ukrayinka...\nFound city Ukrayinka, City ID No.: 690788\n-------------\nRetrieving results for Index 679: fethiye...\nFound city Fethiye, City ID No.: 314967\n-------------\nRetrieving results for Index 680: chicama...\nFound city Chicama, City ID No.: 3698359\n-------------\nRetrieving results for Index 681: la ronge...\nFound city La Ronge, City ID No.: 6050066\n-------------\nRetrieving results for Index 682: byron bay...\nFound city Byron Bay, City ID No.: 2172880\n-------------\nRetrieving results for Index 683: portland...\nFound city Portland, City ID No.: 5746545\n-------------\nRetrieving results for Index 684: whitehorse...\nFound city Whitehorse, City ID No.: 6180550\n-------------\nRetrieving results for Index 685: curitibanos...\nFound city Curitibanos, City ID No.: 3464974\n-------------\nRetrieving results for Index 686: touros...\nFound city Touros, City ID No.: 3386213\n-------------\nRetrieving results for Index 687: nanortalik...\nFound city Nanortalik, City ID No.: 3421765\n-------------\n"
    }
   ],
   "source": [
    "base_url = f\"http://api.openweathermap.org/data/2.5/weather?q=\"\n",
    "api_key = f\"&appid={ow_api}&units=imperial\"\n",
    "\n",
    "for index, row in citydata_df.iterrows():\n",
    "\n",
    "    query_city = row[\"Cities\"]\n",
    "    \n",
    "    query_url = f\"{base_url} + {query_city} + {api_key}\"\n",
    "\n",
    "    print(f\"Retrieving results for Index {index}: {query_city}...\")\n",
    "    response = requests.get(query_url).json()\n",
    "\n",
    "    #results = response[\"results\"]\n",
    "\n",
    "    try:\n",
    "        print(f\"Found city {response['name']}, City ID No.: {response['id']}\")\n",
    "\n",
    "        citydata_df.loc[index, \"Lat\"] = response[\"coord\"][\"lat\"]\n",
    "        citydata_df.loc[index, \"Lon\"] = response[\"coord\"][\"lon\"]\n",
    "        citydata_df.loc[index, \"Temp (F)\"] = response[\"main\"][\"temp\"]\n",
    "        citydata_df.loc[index, \"Humidity (%)\"] = response[\"main\"][\"humidity\"]\n",
    "        citydata_df.loc[index, \"Cloudiness (%)\"] = response[\"clouds\"][\"all\"]\n",
    "        citydata_df.loc[index, \"Wind Speed (mph)\"] = response[\"wind\"][\"speed\"]\n",
    "    except (KeyError,IndexError):\n",
    "        print(f\"Missing field/result ... skipping ...\")\n",
    "    \n",
    "    print(\"-------------\")"
   ]
  },
  {
   "cell_type": "code",
   "execution_count": 85,
   "metadata": {},
   "outputs": [
    {
     "output_type": "execute_result",
     "data": {
      "text/plain": "Cities              616\nLat                 616\nLon                 616\nTemp (F)            616\nHumidity (%)        616\nCloudiness (%)      616\nWind Speed (mph)    616\ndtype: int64"
     },
     "metadata": {},
     "execution_count": 85
    }
   ],
   "source": [
    "#confirm that this returned at least 500 good results\n",
    "citydata_df[\"Lat\"].replace('',np.nan,inplace=True)\n",
    "citydata_df.dropna(axis=0,how=\"any\",inplace=True)\n",
    "citydata_df.count()"
   ]
  },
  {
   "cell_type": "markdown",
   "metadata": {},
   "source": [
    "# Analysis"
   ]
  },
  {
   "cell_type": "code",
   "execution_count": null,
   "metadata": {},
   "outputs": [],
   "source": []
  }
 ]
}