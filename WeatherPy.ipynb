{
 "metadata": {
  "language_info": {
   "codemirror_mode": {
    "name": "ipython",
    "version": 3
   },
   "file_extension": ".py",
   "mimetype": "text/x-python",
   "name": "python",
   "nbconvert_exporter": "python",
   "pygments_lexer": "ipython3",
   "version": "3.8.3-final"
  },
  "orig_nbformat": 2,
  "kernelspec": {
   "name": "python3",
   "display_name": "Python 3"
  }
 },
 "nbformat": 4,
 "nbformat_minor": 2,
 "cells": [
  {
   "cell_type": "code",
   "execution_count": 6,
   "metadata": {},
   "outputs": [],
   "source": [
    "#Dependencies\n",
    "import requests\n",
    "import json\n",
    "from config import ow_api\n",
    "import matplotlib.pyplot as plt \n",
    "from citipy import citipy\n",
    "import pandas as pd \n",
    "import numpy as np "
   ]
  },
  {
   "cell_type": "code",
   "execution_count": 37,
   "metadata": {
    "tags": []
   },
   "outputs": [],
   "source": [
    "#Get random coordinates\n",
    "rand_lat = np.random.uniform(-90,high=90,size=(1500,1))\n",
    "rand_lon = np.random.uniform(-180,high=180,size=(1500,1))\n",
    "#print(rand_lat)"
   ]
  },
  {
   "cell_type": "code",
   "execution_count": 38,
   "metadata": {
    "tags": []
   },
   "outputs": [],
   "source": [
    "#Get list of random cities\n",
    "cities = [citipy.nearest_city(rand_lat[i],rand_lon[i]) for i in range(len(rand_lat))]\n",
    "city_names = [cities[i].city_name for i in range(len(cities))]\n",
    "#print(city_names)"
   ]
  },
  {
   "cell_type": "code",
   "execution_count": 39,
   "metadata": {
    "tags": []
   },
   "outputs": [
    {
     "output_type": "stream",
     "name": "stdout",
     "text": "589\n"
    }
   ],
   "source": [
    "#Dedupe cities and make sure there are more than 500\n",
    "dedupe_cities = list(dict.fromkeys(city_names))\n",
    "print(len(dedupe_cities))"
   ]
  },
  {
   "cell_type": "code",
   "execution_count": 42,
   "metadata": {
    "tags": []
   },
   "outputs": [
    {
     "output_type": "stream",
     "name": "stdout",
     "text": "{\n    \"base\": \"stations\",\n    \"clouds\": {\n        \"all\": 75\n    },\n    \"cod\": 200,\n    \"coord\": {\n        \"lat\": 62.46,\n        \"lon\": -114.35\n    },\n    \"dt\": 1599321035,\n    \"id\": 6185377,\n    \"main\": {\n        \"feels_like\": 275.22,\n        \"humidity\": 75,\n        \"pressure\": 1018,\n        \"temp\": 279.99,\n        \"temp_max\": 281.48,\n        \"temp_min\": 278.71\n    },\n    \"name\": \"Yellowknife\",\n    \"sys\": {\n        \"country\": \"CA\",\n        \"id\": 1007,\n        \"sunrise\": 1599309478,\n        \"sunset\": 1599359652,\n        \"type\": 1\n    },\n    \"timezone\": -21600,\n    \"visibility\": 10000,\n    \"weather\": [\n        {\n            \"description\": \"broken clouds\",\n            \"icon\": \"04d\",\n            \"id\": 803,\n            \"main\": \"Clouds\"\n        }\n    ],\n    \"wind\": {\n        \"deg\": 80,\n        \"speed\": 4.6\n    }\n}\n"
    }
   ],
   "source": [
    "#Use first city to determine json structure\n",
    "base_url = f\"http://api.openweathermap.org/data/2.5/weather?q={dedupe_cities[0]}&appid={ow_api}\"\n",
    "response = requests.get(base_url).json()\n",
    "print(json.dumps(response,indent=4,sort_keys=True))"
   ]
  },
  {
   "cell_type": "code",
   "execution_count": null,
   "metadata": {},
   "outputs": [],
   "source": [
    "#Create dataframe to hold information"
   ]
  }
 ]
}