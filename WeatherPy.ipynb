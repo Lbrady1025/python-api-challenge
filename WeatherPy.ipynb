{
 "metadata": {
  "language_info": {
   "codemirror_mode": {
    "name": "ipython",
    "version": 3
   },
   "file_extension": ".py",
   "mimetype": "text/x-python",
   "name": "python",
   "nbconvert_exporter": "python",
   "pygments_lexer": "ipython3",
   "version": "3.8.3-final"
  },
  "orig_nbformat": 2,
  "kernelspec": {
   "name": "python3",
   "display_name": "Python 3"
  }
 },
 "nbformat": 4,
 "nbformat_minor": 2,
 "cells": [
  {
   "cell_type": "code",
   "execution_count": 6,
   "metadata": {},
   "outputs": [],
   "source": [
    "#Dependencies\n",
    "import requests\n",
    "import json\n",
    "from config import ow_api\n",
    "import matplotlib.pyplot as plt \n",
    "from citipy import citipy\n",
    "import pandas as pd \n",
    "import numpy as np "
   ]
  },
  {
   "cell_type": "code",
   "execution_count": 37,
   "metadata": {
    "tags": []
   },
   "outputs": [],
   "source": [
    "#Get random coordinates\n",
    "rand_lat = np.random.uniform(-90,high=90,size=(1500,1))\n",
    "rand_lon = np.random.uniform(-180,high=180,size=(1500,1))\n",
    "#print(rand_lat)"
   ]
  },
  {
   "cell_type": "code",
   "execution_count": 38,
   "metadata": {
    "tags": []
   },
   "outputs": [],
   "source": [
    "#Get list of random cities\n",
    "cities = [citipy.nearest_city(rand_lat[i],rand_lon[i]) for i in range(len(rand_lat))]\n",
    "city_names = [cities[i].city_name for i in range(len(cities))]\n",
    "#print(city_names)"
   ]
  },
  {
   "cell_type": "code",
   "execution_count": 39,
   "metadata": {
    "tags": []
   },
   "outputs": [
    {
     "output_type": "stream",
     "name": "stdout",
     "text": "589\n"
    }
   ],
   "source": [
    "#Dedupe cities and make sure there are more than 500\n",
    "dedupe_cities = list(dict.fromkeys(city_names))\n",
    "print(len(dedupe_cities))"
   ]
  },
  {
   "cell_type": "code",
   "execution_count": 47,
   "metadata": {
    "tags": []
   },
   "outputs": [
    {
     "output_type": "stream",
     "name": "stdout",
     "text": "{\n    \"base\": \"stations\",\n    \"clouds\": {\n        \"all\": 75\n    },\n    \"cod\": 200,\n    \"coord\": {\n        \"lat\": 62.46,\n        \"lon\": -114.35\n    },\n    \"dt\": 1599338646,\n    \"id\": 6185377,\n    \"main\": {\n        \"feels_like\": 43.5,\n        \"humidity\": 57,\n        \"pressure\": 1019,\n        \"temp\": 51.48,\n        \"temp_max\": 51.8,\n        \"temp_min\": 51.01\n    },\n    \"name\": \"Yellowknife\",\n    \"sys\": {\n        \"country\": \"CA\",\n        \"id\": 1007,\n        \"sunrise\": 1599309478,\n        \"sunset\": 1599359652,\n        \"type\": 1\n    },\n    \"timezone\": -21600,\n    \"visibility\": 10000,\n    \"weather\": [\n        {\n            \"description\": \"broken clouds\",\n            \"icon\": \"04d\",\n            \"id\": 803,\n            \"main\": \"Clouds\"\n        }\n    ],\n    \"wind\": {\n        \"deg\": 30,\n        \"speed\": 9.17\n    }\n}\n"
    }
   ],
   "source": [
    "#Use first city to determine json structure\n",
    "test_url = f\"http://api.openweathermap.org/data/2.5/weather?q={dedupe_cities[0]}&appid={ow_api}&units=imperial\"\n",
    "response = requests.get(test_url).json()\n",
    "print(json.dumps(response,indent=4,sort_keys=True))"
   ]
  },
  {
   "cell_type": "code",
   "execution_count": 45,
   "metadata": {},
   "outputs": [
    {
     "output_type": "execute_result",
     "data": {
      "text/plain": "        Cities Lat Lon Temp (F) Humidity (%) Cloudiness (%) Wind Speed (mph)\n0  yellowknife                                                              \n1    carnarvon                                                              \n2       namibe                                                              \n3       hobart                                                              \n4     hermanus                                                              ",
      "text/html": "<div>\n<style scoped>\n    .dataframe tbody tr th:only-of-type {\n        vertical-align: middle;\n    }\n\n    .dataframe tbody tr th {\n        vertical-align: top;\n    }\n\n    .dataframe thead th {\n        text-align: right;\n    }\n</style>\n<table border=\"1\" class=\"dataframe\">\n  <thead>\n    <tr style=\"text-align: right;\">\n      <th></th>\n      <th>Cities</th>\n      <th>Lat</th>\n      <th>Lon</th>\n      <th>Temp (F)</th>\n      <th>Humidity (%)</th>\n      <th>Cloudiness (%)</th>\n      <th>Wind Speed (mph)</th>\n    </tr>\n  </thead>\n  <tbody>\n    <tr>\n      <th>0</th>\n      <td>yellowknife</td>\n      <td></td>\n      <td></td>\n      <td></td>\n      <td></td>\n      <td></td>\n      <td></td>\n    </tr>\n    <tr>\n      <th>1</th>\n      <td>carnarvon</td>\n      <td></td>\n      <td></td>\n      <td></td>\n      <td></td>\n      <td></td>\n      <td></td>\n    </tr>\n    <tr>\n      <th>2</th>\n      <td>namibe</td>\n      <td></td>\n      <td></td>\n      <td></td>\n      <td></td>\n      <td></td>\n      <td></td>\n    </tr>\n    <tr>\n      <th>3</th>\n      <td>hobart</td>\n      <td></td>\n      <td></td>\n      <td></td>\n      <td></td>\n      <td></td>\n      <td></td>\n    </tr>\n    <tr>\n      <th>4</th>\n      <td>hermanus</td>\n      <td></td>\n      <td></td>\n      <td></td>\n      <td></td>\n      <td></td>\n      <td></td>\n    </tr>\n  </tbody>\n</table>\n</div>"
     },
     "metadata": {},
     "execution_count": 45
    }
   ],
   "source": [
    "#Create dataframe to hold information\n",
    "citydata_df = pd.DataFrame({\"Cities\":dedupe_cities})\n",
    "\n",
    "#Add columns to dataframe\n",
    "citydata_df[\"Lat\"] = \"\"\n",
    "citydata_df[\"Lon\"] = \"\"\n",
    "citydata_df[\"Temp (F)\"] = \"\"\n",
    "citydata_df[\"Humidity (%)\"] = \"\"\n",
    "citydata_df[\"Cloudiness (%)\"] = \"\"\n",
    "citydata_df[\"Wind Speed (mph)\"] = \"\"\n",
    "\n",
    "citydata_df.head()"
   ]
  },
  {
   "cell_type": "code",
   "execution_count": 59,
   "metadata": {
    "tags": [
     "outputPrepend"
    ]
   },
   "outputs": [
    {
     "output_type": "stream",
     "name": "stdout",
     "text": "..\nFound city Nigde, City ID No.: 303826\n-------------\nRetrieving results for Index 393: port blair...\nFound city Port Blair, City ID No.: 1259385\n-------------\nRetrieving results for Index 394: gat...\nMissing field/result ... skipping ...\n-------------\nRetrieving results for Index 395: ballina...\nFound city Ballina, City ID No.: 2177069\n-------------\nRetrieving results for Index 396: pudozh...\nFound city Pudozh, City ID No.: 504269\n-------------\nRetrieving results for Index 397: delta del tigre...\nFound city Delta del Tigre, City ID No.: 3442778\n-------------\nRetrieving results for Index 398: ozark...\nFound city Ozark, City ID No.: 4402245\n-------------\nRetrieving results for Index 399: sale...\nFound city Sale, City ID No.: 2537763\n-------------\nRetrieving results for Index 400: saint-georges...\nFound city Saint-Georges, City ID No.: 6138282\n-------------\nRetrieving results for Index 401: beaufort...\nFound city Beaufort, City ID No.: 1733874\n-------------\nRetrieving results for Index 402: nalut...\nFound city Nalut, City ID No.: 2214433\n-------------\nRetrieving results for Index 403: lolua...\nMissing field/result ... skipping ...\n-------------\nRetrieving results for Index 404: fairview...\nFound city Fairview, City ID No.: 5097801\n-------------\nRetrieving results for Index 405: porbandar...\nFound city Porbandar, City ID No.: 1259395\n-------------\nRetrieving results for Index 406: opuwo...\nFound city Opuwo, City ID No.: 3354077\n-------------\nRetrieving results for Index 407: irmo...\nFound city Irmo, City ID No.: 4583057\n-------------\nRetrieving results for Index 408: kieta...\nFound city Kieta, City ID No.: 2094027\n-------------\nRetrieving results for Index 409: pindwara...\nFound city Pindwara, City ID No.: 1259638\n-------------\nRetrieving results for Index 410: palm coast...\nFound city Palm Coast, City ID No.: 4167538\n-------------\nRetrieving results for Index 411: arawa...\nFound city Arawa, City ID No.: 2100633\n-------------\nRetrieving results for Index 412: innisfail...\nFound city Innisfail, City ID No.: 2162683\n-------------\nRetrieving results for Index 413: nicoya...\nFound city Nicoya, City ID No.: 3622716\n-------------\nRetrieving results for Index 414: sitka...\nFound city Sitka, City ID No.: 5557293\n-------------\nRetrieving results for Index 415: karpogory...\nFound city Karpogory, City ID No.: 552256\n-------------\nRetrieving results for Index 416: aleppo...\nFound city Aleppo, City ID No.: 170063\n-------------\nRetrieving results for Index 417: finnsnes...\nFound city Finnsnes, City ID No.: 3157549\n-------------\nRetrieving results for Index 418: labutta...\nMissing field/result ... skipping ...\n-------------\nRetrieving results for Index 419: lipin bor...\nFound city Lipin Bor, City ID No.: 535113\n-------------\nRetrieving results for Index 420: cam ranh...\nFound city Cam Ranh, City ID No.: 1586350\n-------------\nRetrieving results for Index 421: winnemucca...\nFound city Winnemucca, City ID No.: 5710360\n-------------\nRetrieving results for Index 422: dolzhanskaya...\nFound city Dolzhanskaya, City ID No.: 565456\n-------------\nRetrieving results for Index 423: carutapera...\nFound city Carutapera, City ID No.: 3402648\n-------------\nRetrieving results for Index 424: atambua...\nFound city Atambua, City ID No.: 1651103\n-------------\nRetrieving results for Index 425: jiazi...\nFound city Jiazi, City ID No.: 1805935\n-------------\nRetrieving results for Index 426: ahipara...\nFound city Ahipara, City ID No.: 2194098\n-------------\nRetrieving results for Index 427: lavrentiya...\nFound city Lavrentiya, City ID No.: 4031637\n-------------\nRetrieving results for Index 428: attawapiskat...\nMissing field/result ... skipping ...\n-------------\nRetrieving results for Index 429: ondarroa...\nFound city Ondarroa, City ID No.: 3115056\n-------------\nRetrieving results for Index 430: buqayq...\nMissing field/result ... skipping ...\n-------------\nRetrieving results for Index 431: zabid...\nFound city Zabid, City ID No.: 69500\n-------------\nRetrieving results for Index 432: kholtoson...\nFound city Kholtoson, City ID No.: 2022369\n-------------\nRetrieving results for Index 433: anderson...\nFound city Anderson, City ID No.: 4917592\n-------------\nRetrieving results for Index 434: solnechnyy...\nFound city Solnechnyy, City ID No.: 2016307\n-------------\nRetrieving results for Index 435: ogaminana...\nMissing field/result ... skipping ...\n-------------\nRetrieving results for Index 436: havre-saint-pierre...\nFound city Havre-Saint-Pierre, City ID No.: 5972291\n-------------\nRetrieving results for Index 437: phan rang...\nMissing field/result ... skipping ...\n-------------\nRetrieving results for Index 438: korsakov...\nFound city Korsakov, City ID No.: 2124286\n-------------\nRetrieving results for Index 439: thap than...\nFound city Thap Than, City ID No.: 1150210\n-------------\nRetrieving results for Index 440: san andres...\nFound city San Andres, City ID No.: 3670205\n-------------\nRetrieving results for Index 441: aksarka...\nFound city Aksarka, City ID No.: 1512019\n-------------\nRetrieving results for Index 442: ippy...\nFound city Ippy, City ID No.: 238566\n-------------\nRetrieving results for Index 443: tuatapere...\nFound city Tuatapere, City ID No.: 2180815\n-------------\nRetrieving results for Index 444: antalya...\nFound city Antalya, City ID No.: 323776\n-------------\nRetrieving results for Index 445: minas...\nFound city Minas, City ID No.: 3441665\n-------------\nRetrieving results for Index 446: ishigaki...\nFound city Ishigaki, City ID No.: 1861416\n-------------\nRetrieving results for Index 447: mount isa...\nFound city Mount Isa, City ID No.: 2065594\n-------------\nRetrieving results for Index 448: olafsvik...\nMissing field/result ... skipping ...\n-------------\nRetrieving results for Index 449: isangel...\nFound city Isangel, City ID No.: 2136825\n-------------\nRetrieving results for Index 450: bela...\nFound city Bela, City ID No.: 1276574\n-------------\nRetrieving results for Index 451: leon valley...\nFound city Leon Valley, City ID No.: 4705923\n-------------\nRetrieving results for Index 452: zhuhai...\nFound city Zhuhai, City ID No.: 1790437\n-------------\nRetrieving results for Index 453: rio gallegos...\nFound city Rio Gallegos, City ID No.: 3838859\n-------------\nRetrieving results for Index 454: katsuura...\nFound city Katsuura, City ID No.: 2112309\n-------------\nRetrieving results for Index 455: cumaribo...\nMissing field/result ... skipping ...\n-------------\nRetrieving results for Index 456: kushima...\nFound city Kushima, City ID No.: 1895695\n-------------\nRetrieving results for Index 457: tignere...\nFound city Tignere, City ID No.: 2221513\n-------------\nRetrieving results for Index 458: ulaangom...\nFound city Ulaangom, City ID No.: 1515029\n-------------\nRetrieving results for Index 459: olga...\nFound city Olga, City ID No.: 2018553\n-------------\nRetrieving results for Index 460: vallenar...\nFound city Vallenar, City ID No.: 3868633\n-------------\nRetrieving results for Index 461: bonthe...\nFound city Bonthe, City ID No.: 2409914\n-------------\nRetrieving results for Index 462: hay river...\nFound city Hay River, City ID No.: 5972762\n-------------\nRetrieving results for Index 463: lilongwe...\nFound city Lilongwe, City ID No.: 927967\n-------------\nRetrieving results for Index 464: sohag...\nMissing field/result ... skipping ...\n-------------\nRetrieving results for Index 465: petropavlovsk-kamchatskiy...\nFound city Petropavlovsk-Kamchatskiy, City ID No.: 2122104\n-------------\nRetrieving results for Index 466: uyuni...\nFound city Uyuni, City ID No.: 3901903\n-------------\nRetrieving results for Index 467: virginia beach...\nFound city Virginia Beach, City ID No.: 4791259\n-------------\nRetrieving results for Index 468: yumen...\nFound city Yumen, City ID No.: 1528998\n-------------\nRetrieving results for Index 469: gornopravdinsk...\nFound city Gornopravdinsk, City ID No.: 1506268\n-------------\nRetrieving results for Index 470: beringovskiy...\nFound city Beringovskiy, City ID No.: 2126710\n-------------\nRetrieving results for Index 471: phalaborwa...\nFound city Phalaborwa, City ID No.: 965528\n-------------\nRetrieving results for Index 472: broken hill...\nFound city Broken Hill, City ID No.: 2173911\n-------------\nRetrieving results for Index 473: komsomolskiy...\nFound city Komsomolskiy, City ID No.: 1513491\n-------------\nRetrieving results for Index 474: asyut...\nFound city Asyut, City ID No.: 359783\n-------------\nRetrieving results for Index 475: cottonwood heights...\nFound city Cottonwood Heights, City ID No.: 5773304\n-------------\nRetrieving results for Index 476: tasbuget...\nMissing field/result ... skipping ...\n-------------\nRetrieving results for Index 477: dakar...\nFound city Dakar, City ID No.: 2253354\n-------------\nRetrieving results for Index 478: zatoka...\nFound city Zatoka, City ID No.: 687557\n-------------\nRetrieving results for Index 479: kulebaki...\nFound city Kulebaki, City ID No.: 539555\n-------------\nRetrieving results for Index 480: osa...\nFound city Osa, City ID No.: 514706\n-------------\nRetrieving results for Index 481: oktyabrskiy...\nFound city Oktyabrskiy, City ID No.: 578638\n-------------\nRetrieving results for Index 482: matagami...\nFound city Matagami, City ID No.: 6067747\n-------------\nRetrieving results for Index 483: ust-kuyga...\nFound city Ust-Kuyga, City ID No.: 2013921\n-------------\nRetrieving results for Index 484: constitucion...\nFound city Constitucion, City ID No.: 3893726\n-------------\nRetrieving results for Index 485: pipili...\nFound city Pipili, City ID No.: 1259592\n-------------\nRetrieving results for Index 486: sobolevo...\nMissing field/result ... skipping ...\n-------------\nRetrieving results for Index 487: talara...\nFound city Talara, City ID No.: 3691582\n-------------\nRetrieving results for Index 488: sao paulo de olivenca...\nFound city Sao Paulo de Olivenca, City ID No.: 3662252\n-------------\nRetrieving results for Index 489: kurilsk...\nFound city Kurilsk, City ID No.: 2123979\n-------------\nRetrieving results for Index 490: bilibino...\nFound city Bilibino, City ID No.: 2126682\n-------------\nRetrieving results for Index 491: ponta delgada...\nFound city Ponta Delgada, City ID No.: 3372783\n-------------\nRetrieving results for Index 492: satitoa...\nMissing field/result ... skipping ...\n-------------\nRetrieving results for Index 493: nuuk...\nFound city Nuuk, City ID No.: 3421319\n-------------\nRetrieving results for Index 494: arkhangelsk...\nFound city Arkhangelsk, City ID No.: 581049\n-------------\nRetrieving results for Index 495: phalombe...\nFound city Phalombe, City ID No.: 924206\n-------------\nRetrieving results for Index 496: abu samrah...\nMissing field/result ... skipping ...\n-------------\nRetrieving results for Index 497: galgani...\nMissing field/result ... skipping ...\n-------------\nRetrieving results for Index 498: najran...\nFound city Najran, City ID No.: 103630\n-------------\nRetrieving results for Index 499: samusu...\nMissing field/result ... skipping ...\n-------------\nRetrieving results for Index 500: banjar...\nFound city Banjar, City ID No.: 1650232\n-------------\nRetrieving results for Index 501: verkhnevilyuysk...\nFound city Verkhnevilyuysk, City ID No.: 2013639\n-------------\nRetrieving results for Index 502: faya...\nMissing field/result ... skipping ...\n-------------\nRetrieving results for Index 503: husavik...\nFound city Husavik, City ID No.: 2629833\n-------------\nRetrieving results for Index 504: buala...\nFound city Buala, City ID No.: 2109528\n-------------\nRetrieving results for Index 505: taburi...\nMissing field/result ... skipping ...\n-------------\nRetrieving results for Index 506: eirunepe...\nFound city Eirunepe, City ID No.: 3664321\n-------------\nRetrieving results for Index 507: kathu...\nFound city Kathu, City ID No.: 1153035\n-------------\nRetrieving results for Index 508: uruacu...\nFound city Uruacu, City ID No.: 3445713\n-------------\nRetrieving results for Index 509: yaan...\nMissing field/result ... skipping ...\n-------------\nRetrieving results for Index 510: fortuna...\nFound city Fortuna, City ID No.: 5563839\n-------------\nRetrieving results for Index 511: araouane...\nFound city Araouane, City ID No.: 2460954\n-------------\nRetrieving results for Index 512: wanning...\nFound city Wanning, City ID No.: 1791779\n-------------\nRetrieving results for Index 513: port hardy...\nFound city Port Hardy, City ID No.: 6111862\n-------------\nRetrieving results for Index 514: ibiruba...\nFound city Ibiruba, City ID No.: 3461559\n-------------\nRetrieving results for Index 515: touros...\nFound city Touros, City ID No.: 3386213\n-------------\nRetrieving results for Index 516: panaba...\nFound city Panaba, City ID No.: 3515504\n-------------\nRetrieving results for Index 517: urrao...\nFound city Urrao, City ID No.: 3666395\n-------------\nRetrieving results for Index 518: kutum...\nFound city Kutum, City ID No.: 371745\n-------------\nRetrieving results for Index 519: yevlax...\nMissing field/result ... skipping ...\n-------------\nRetrieving results for Index 520: mapiripan...\nFound city Mapiripan, City ID No.: 3792394\n-------------\nRetrieving results for Index 521: iralaya...\nFound city Iralaya, City ID No.: 3608828\n-------------\nRetrieving results for Index 522: makung...\nMissing field/result ... skipping ...\n-------------\nRetrieving results for Index 523: urdzhar...\nMissing field/result ... skipping ...\n-------------\nRetrieving results for Index 524: santa rosa...\nFound city Santa Rosa, City ID No.: 1687894\n-------------\nRetrieving results for Index 525: kenora...\nFound city Kenora, City ID No.: 5991056\n-------------\nRetrieving results for Index 526: nattam...\nFound city Nattam, City ID No.: 1261705\n-------------\nRetrieving results for Index 527: soller...\nFound city Soller, City ID No.: 2514097\n-------------\nRetrieving results for Index 528: port lincoln...\nFound city Port Lincoln, City ID No.: 2063036\n-------------\nRetrieving results for Index 529: saint-gabriel...\nFound city Saint-Gabriel, City ID No.: 6138260\n-------------\nRetrieving results for Index 530: baley...\nFound city Baley, City ID No.: 2027184\n-------------\nRetrieving results for Index 531: rimavska sobota...\nFound city Rimavska Sobota, City ID No.: 723736\n-------------\nRetrieving results for Index 532: kvarkeno...\nFound city Kvarkeno, City ID No.: 537541\n-------------\nRetrieving results for Index 533: waynesville...\nFound city Waynesville, City ID No.: 4497868\n-------------\nRetrieving results for Index 534: camara de lobos...\nFound city Camara de Lobos, City ID No.: 2267827\n-------------\nRetrieving results for Index 535: umm lajj...\nFound city Umm Lajj, City ID No.: 100926\n-------------\nRetrieving results for Index 536: atherton...\nFound city Atherton, City ID No.: 2656847\n-------------\nRetrieving results for Index 537: rorvik...\nFound city Rorvik, City ID No.: 3141310\n-------------\nRetrieving results for Index 538: riverton...\nFound city Riverton, City ID No.: 5780557\n-------------\nRetrieving results for Index 539: jizan...\nFound city Jizan, City ID No.: 105299\n-------------\nRetrieving results for Index 540: luquillo...\nFound city Luquillo, City ID No.: 4566103\n-------------\nRetrieving results for Index 541: ampanihy...\nFound city Ampanihy, City ID No.: 1078553\n-------------\nRetrieving results for Index 542: alice springs...\nFound city Alice Springs, City ID No.: 2077895\n-------------\nRetrieving results for Index 543: choma...\nFound city Choma, City ID No.: 917748\n-------------\nRetrieving results for Index 544: hagere hiywet...\nFound city Hagere Hiywet, City ID No.: 335288\n-------------\nRetrieving results for Index 545: junction city...\nFound city Junction City, City ID No.: 4273680\n-------------\nRetrieving results for Index 546: orotukan...\nFound city Orotukan, City ID No.: 2122414\n-------------\nRetrieving results for Index 547: sann...\nFound city Sann, City ID No.: 1166115\n-------------\nRetrieving results for Index 548: conde...\nFound city Conde, City ID No.: 3385077\n-------------\nRetrieving results for Index 549: stoyba...\nMissing field/result ... skipping ...\n-------------\nRetrieving results for Index 550: kontagora...\nFound city Kontagora, City ID No.: 2334008\n-------------\nRetrieving results for Index 551: lixourion...\nFound city Lixourion, City ID No.: 264668\n-------------\nRetrieving results for Index 552: saleaula...\nMissing field/result ... skipping ...\n-------------\nRetrieving results for Index 553: benemerito de las americas...\nFound city Benemerito de las Americas, City ID No.: 3816362\n-------------\nRetrieving results for Index 554: pedini...\nFound city Pedini, City ID No.: 261779\n-------------\nRetrieving results for Index 555: bubaque...\nFound city Bubaque, City ID No.: 2374583\n-------------\nRetrieving results for Index 556: newport...\nFound city Newport, City ID No.: 2641598\n-------------\nRetrieving results for Index 557: samalaeulu...\nMissing field/result ... skipping ...\n-------------\nRetrieving results for Index 558: uravakonda...\nFound city Uravakonda, City ID No.: 1253698\n-------------\nRetrieving results for Index 559: xingyi...\nMissing field/result ... skipping ...\n-------------\nRetrieving results for Index 560: millinocket...\nFound city Millinocket, City ID No.: 4972220\n-------------\nRetrieving results for Index 561: skibbereen...\nFound city Skibbereen, City ID No.: 2961459\n-------------\nRetrieving results for Index 562: mnogovershinnyy...\nFound city Mnogovershinnyy, City ID No.: 2019935\n-------------\nRetrieving results for Index 563: pemangkat...\nFound city Pemangkat, City ID No.: 1631637\n-------------\nRetrieving results for Index 564: morro bay...\nFound city Morro Bay, City ID No.: 5374920\n-------------\nRetrieving results for Index 565: cap-aux-meules...\nFound city Cap-aux-Meules, City ID No.: 5915327\n-------------\nRetrieving results for Index 566: nhulunbuy...\nFound city Nhulunbuy, City ID No.: 2064735\n-------------\nRetrieving results for Index 567: aroeiras...\nFound city Aroeiras, City ID No.: 3407091\n-------------\nRetrieving results for Index 568: barbar...\nMissing field/result ... skipping ...\n-------------\nRetrieving results for Index 569: cap malheureux...\nFound city Cap Malheureux, City ID No.: 934649\n-------------\nRetrieving results for Index 570: sibolga...\nFound city Sibolga, City ID No.: 1213855\n-------------\nRetrieving results for Index 571: norman wells...\nFound city Norman Wells, City ID No.: 6089245\n-------------\nRetrieving results for Index 572: kimbe...\nFound city Kimbe, City ID No.: 2093967\n-------------\nRetrieving results for Index 573: daru...\nFound city Daru, City ID No.: 2098329\n-------------\nRetrieving results for Index 574: xinzhou...\nFound city Xinzhou, City ID No.: 1788450\n-------------\nRetrieving results for Index 575: huarmey...\nFound city Huarmey, City ID No.: 3939168\n-------------\nRetrieving results for Index 576: jiangyou...\nFound city Jiangyou, City ID No.: 1885823\n-------------\nRetrieving results for Index 577: bunia...\nFound city Bunia, City ID No.: 217695\n-------------\nRetrieving results for Index 578: norfolk...\nFound city Norfolk, City ID No.: 4776222\n-------------\nRetrieving results for Index 579: sangar...\nFound city Sangar, City ID No.: 2017215\n-------------\nRetrieving results for Index 580: mangit...\nMissing field/result ... skipping ...\n-------------\nRetrieving results for Index 581: ullapool...\nFound city Ullapool, City ID No.: 2635199\n-------------\nRetrieving results for Index 582: maghama...\nMissing field/result ... skipping ...\n-------------\nRetrieving results for Index 583: tabou...\nFound city Tabou, City ID No.: 2281120\n-------------\nRetrieving results for Index 584: marv dasht...\nMissing field/result ... skipping ...\n-------------\nRetrieving results for Index 585: riyadh...\nFound city Riyadh, City ID No.: 108410\n-------------\nRetrieving results for Index 586: novikovo...\nMissing field/result ... skipping ...\n-------------\nRetrieving results for Index 587: sokoni...\nFound city Sokoni, City ID No.: 149812\n-------------\nRetrieving results for Index 588: samatau...\nMissing field/result ... skipping ...\n-------------\n"
    }
   ],
   "source": [
    "base_url = f\"http://api.openweathermap.org/data/2.5/weather?q=\"\n",
    "api_key = f\"&appid={ow_api}&units=imperial\"\n",
    "\n",
    "for index, row in citydata_df.iterrows():\n",
    "\n",
    "    query_city = row[\"Cities\"]\n",
    "    \n",
    "    query_url = f\"{base_url} + {query_city} + {api_key}\"\n",
    "\n",
    "    print(f\"Retrieving results for Index {index}: {query_city}...\")\n",
    "    response = requests.get(query_url).json()\n",
    "\n",
    "    #results = response[\"results\"]\n",
    "\n",
    "    try:\n",
    "        print(f\"Found city {response['name']}, City ID No.: {response['id']}\")\n",
    "\n",
    "        citydata_df.loc[index, \"Lat\"] = response[\"coord\"][\"lat\"]\n",
    "        citydata_df.loc[index, \"Lon\"] = response[\"coord\"][\"lon\"]\n",
    "        citydata_df.loc[index, \"Temp (F)\"] = response[\"main\"][\"temp\"]\n",
    "        citydata_df.loc[index, \"Humidity (%)\"] = response[\"main\"][\"humidity\"]\n",
    "        citydata_df.loc[index, \"Cloudiness (%)\"] = response[\"clouds\"][\"all\"]\n",
    "        citydata_df.loc[index, \"Wind Speed (mph)\"] = response[\"wind\"][\"speed\"]\n",
    "    except (KeyError,IndexError):\n",
    "        print(f\"Missing field/result ... skipping ...\")\n",
    "    \n",
    "    print(\"-------------\")"
   ]
  },
  {
   "cell_type": "code",
   "execution_count": 60,
   "metadata": {},
   "outputs": [
    {
     "output_type": "execute_result",
     "data": {
      "text/plain": "        Cities    Lat     Lon Temp (F) Humidity (%) Cloudiness (%)  \\\n0  yellowknife  62.46 -114.35    51.46           57             75   \n1    carnarvon -24.87  113.63     66.2           93             90   \n2       namibe  -15.2   12.15    64.09           77              1   \n3       hobart -42.88  147.33    46.22           81             75   \n4     hermanus -34.42   19.23       52           95             97   \n\n  Wind Speed (mph)  \n0             9.17  \n1            14.99  \n2             5.84  \n3             9.17  \n4             7.34  ",
      "text/html": "<div>\n<style scoped>\n    .dataframe tbody tr th:only-of-type {\n        vertical-align: middle;\n    }\n\n    .dataframe tbody tr th {\n        vertical-align: top;\n    }\n\n    .dataframe thead th {\n        text-align: right;\n    }\n</style>\n<table border=\"1\" class=\"dataframe\">\n  <thead>\n    <tr style=\"text-align: right;\">\n      <th></th>\n      <th>Cities</th>\n      <th>Lat</th>\n      <th>Lon</th>\n      <th>Temp (F)</th>\n      <th>Humidity (%)</th>\n      <th>Cloudiness (%)</th>\n      <th>Wind Speed (mph)</th>\n    </tr>\n  </thead>\n  <tbody>\n    <tr>\n      <th>0</th>\n      <td>yellowknife</td>\n      <td>62.46</td>\n      <td>-114.35</td>\n      <td>51.46</td>\n      <td>57</td>\n      <td>75</td>\n      <td>9.17</td>\n    </tr>\n    <tr>\n      <th>1</th>\n      <td>carnarvon</td>\n      <td>-24.87</td>\n      <td>113.63</td>\n      <td>66.2</td>\n      <td>93</td>\n      <td>90</td>\n      <td>14.99</td>\n    </tr>\n    <tr>\n      <th>2</th>\n      <td>namibe</td>\n      <td>-15.2</td>\n      <td>12.15</td>\n      <td>64.09</td>\n      <td>77</td>\n      <td>1</td>\n      <td>5.84</td>\n    </tr>\n    <tr>\n      <th>3</th>\n      <td>hobart</td>\n      <td>-42.88</td>\n      <td>147.33</td>\n      <td>46.22</td>\n      <td>81</td>\n      <td>75</td>\n      <td>9.17</td>\n    </tr>\n    <tr>\n      <th>4</th>\n      <td>hermanus</td>\n      <td>-34.42</td>\n      <td>19.23</td>\n      <td>52</td>\n      <td>95</td>\n      <td>97</td>\n      <td>7.34</td>\n    </tr>\n  </tbody>\n</table>\n</div>"
     },
     "metadata": {},
     "execution_count": 60
    }
   ],
   "source": [
    "citydata_df.head()"
   ]
  },
  {
   "cell_type": "code",
   "execution_count": null,
   "metadata": {},
   "outputs": [],
   "source": []
  }
 ]
}