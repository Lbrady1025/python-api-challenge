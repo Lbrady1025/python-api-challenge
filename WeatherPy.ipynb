{
 "metadata": {
  "language_info": {
   "codemirror_mode": {
    "name": "ipython",
    "version": 3
   },
   "file_extension": ".py",
   "mimetype": "text/x-python",
   "name": "python",
   "nbconvert_exporter": "python",
   "pygments_lexer": "ipython3",
   "version": "3.8.3-final"
  },
  "orig_nbformat": 2,
  "kernelspec": {
   "name": "python3",
   "display_name": "Python 3"
  }
 },
 "nbformat": 4,
 "nbformat_minor": 2,
 "cells": [
  {
   "cell_type": "code",
   "execution_count": 6,
   "metadata": {},
   "outputs": [],
   "source": [
    "#Dependencies\n",
    "import requests\n",
    "import json\n",
    "from config import ow_api\n",
    "import matplotlib.pyplot as plt \n",
    "from citipy import citipy\n",
    "import pandas as pd \n",
    "import numpy as np "
   ]
  },
  {
   "cell_type": "code",
   "execution_count": 30,
   "metadata": {
    "tags": []
   },
   "outputs": [],
   "source": [
    "#Get random coordinates\n",
    "rand_lat = np.random.uniform(-90,high=90,size=(1000,1))\n",
    "rand_lon = np.random.uniform(-180,high=180,size=(1000,1))\n",
    "#print(rand_lat)"
   ]
  },
  {
   "cell_type": "code",
   "execution_count": 32,
   "metadata": {
    "tags": []
   },
   "outputs": [
    {
     "output_type": "stream",
     "name": "stdout",
     "text": "['presidencia roque saenz pena', 'antofagasta', 'manzil jamil', 'karpathos', 'tasiilaq', 'taolanaro', 'kayes', 'umtata', 'avarua', 'yellowknife', 'cherskiy', 'acarau', 'puerto ayora', 'bredasdorp', 'mataura', 'punta arenas', 'victoria', 'tuktoyaktuk', 'arraial do cabo', 'mataura', 'hermanus', 'komsomolskiy', 'mollendo', 'tasiilaq', 'kutum', 'mataura', 'jamestown', 'mogochin', 'punta arenas', 'hilo', 'bastia', 'atuona', 'norman wells', 'saskylakh', 'cortez', 'dikson', 'cancun', 'punta arenas', 'rikitea', 'graham', 'grimshaw', 'satitoa', 'rikitea', 'yellowknife', 'saint george', 'aranos', 'yulara', 'zyryanka', 'lompoc', 'palmer', 'barentsburg', 'victoria', 'acapulco', 'lagoa', 'leningradskiy', 'namibe', 'taolanaro', 'provideniya', 'kebemer', 'rio cuarto', 'hobart', 'punta arenas', 'jamestown', 'chokurdakh', 'seymchan', 'qaanaaq', 'faya', 'saint george', 'ponta do sol', 'daru', 'illoqqortoormiut', 'kaitangata', 'khatanga', 'port blair', 'wewak', 'baran', 'nome', 'makakilo city', 'tiksi', 'albany', 'illoqqortoormiut', 'cascais', 'matata', 'barentsburg', 'cap malheureux', 'kapaa', 'atuona', 'puerto ayora', 'barrow', 'nikolskoye', 'belushya guba', 'bend', 'atuona', 'mezen', 'sentyabrskiy', 'turukhansk', 'kruisfontein', 'aksarayskiy', 'hamilton', 'severo-kurilsk', 'jamestown', 'rikitea', 'coihaique', 'berlevag', 'sinnamary', 'mataura', 'taolanaro', 'teofilo otoni', 'kyra', 'port elizabeth', 'northam', 'namibe', 'olafsvik', 'upernavik', 'erenhot', 'korampallam', 'albany', 'albany', 'esperance', 'jamestown', 'nortelandia', 'taolanaro', 'hobart', 'nabire', 'lisakovsk', 'tumannyy', 'bambous virieux', 'olot', 'hasaki', 'rikitea', 'guerrero negro', 'busselton', 'busselton', 'magaria', 'punta arenas', 'ushuaia', 'rikitea', 'illoqqortoormiut', 'ballina', 'rikitea', 'san carlos', 'mareeba', 'north bend', 'plettenberg bay', 'kapaa', 'khatanga', 'saldanha', 'yulara', 'busselton', 'atasu', 'ushuaia', 'kosonsoy', 'lazaro cardenas', 'busselton', 'georgetown', 'ponta do sol', 'severo-kurilsk', 'san patricio', 'busselton', 'cape town', 'albany', 'cape town', 'san vicente', 'amderma', 'coahuayana', 'kavieng', 'bereda', 'grand-santi', 'tsihombe', 'trogir', 'jamestown', 'ushuaia', 'butaritari', 'halalo', 'san patricio', 'hermanus', 'ushuaia', 'dikson', 'hokitika', 'busselton', 'ushuaia', 'tiksi', 'vanavara', 'mumford', 'sur', 'kapaa', 'nikolskoye', 'ushuaia', 'cape town', 'mataura', 'rikitea', 'beaufort', 'cape town', 'anadyr', 'katete', 'puerto ayora', 'kapaa', 'yumen', 'yulara', 'mirskoy', 'nouadhibou', 'hobart', 'ahipara', 'sarkand', 'zonguldak', 'hualmay', 'cabo san lucas', 'bubaque', 'tasiilaq', 'san cristobal', 'luderitz', 'constitucion', 'vila do maio', 'goya', 'mayfield', 'qaanaaq', 'pak phanang', 'busselton', 'atuona', 'marcona', 'hermanus', 'katsuura', 'hermanus', 'north bend', 'ubatuba', 'aklavik', 'mataura', 'barentsburg', 'mataura', 'castro', 'ribeira grande', 'lebu', 'punta arenas', 'sao filipe', 'abu dhabi', 'rikitea', 'buchanan', 'parrsboro', 'camocim', 'makakilo city', 'jamestown', 'pisco', 'vaitupu', 'fortuna', 'talnakh', 'kapaa', 'umea', 'busselton', 'mogadishu', 'machilipatnam', 'haibowan', 'verkhoyansk', 'hermanus', 'kapaa', 'ballina', 'chuy', 'busselton', 'bengkulu', 'morondava', 'hermanus', 'vila franca do campo', 'san juan', 'victoria', 'sisimiut', 'barentsburg', 'lebu', 'mar del plata', 'huarmey', 'busselton', 'avarua', 'kirakira', 'verkhnevilyuysk', 'busselton', 'luderitz', 'belyy yar', 'ushuaia', 'iisalmi', 'bambous virieux', 'saleaula', 'kurduvadi', 'rikitea', 'saint george', 'ushuaia', 'ushuaia', 'tinskoy', 'cabo san lucas', 'mumford', 'kodiak', 'banyo', 'bilma', 'pathein', 'grand river south east', 'sept-iles', 'hirara', 'bonthe', 'seymchan', 'bowen', 'clarence town', 'tuktoyaktuk', 'san patricio', 'svetlyy', 'pangody', 'ribeira grande', 'ushuaia', 'cabedelo', 'punta arenas', 'lebu', 'port lincoln', 'hermanus', 'waddan', 'cap malheureux', 'cayenne', 'sao raimundo nonato', 'jamestown', 'castro', 'hilo', 'bilibino', 'corowa', 'carnarvon', 'narasannapeta', 'epe', 'ushuaia', 'asau', 'qaanaaq', 'ushuaia', 'halifax', 'rikitea', 'nuevo progreso', 'ulaangom', 'tuktoyaktuk', 'mar del plata', 'airai', 'honningsvag', 'dikson', 'yellowknife', 'port alfred', 'fort-shevchenko', 'barentsburg', 'yellowknife', 'new norfolk', 'saleaula', 'ystad', 'qiongshan', 'grindavik', 'atuona', 'port hardy', 'albany', 'albany', 'oxford', 'arraial do cabo', 'narsaq', 'verkhoyansk', 'bredasdorp', 'taolanaro', 'upernavik', 'port elizabeth', 'fuxin', 'villa corzo', 'busselton', 'ushuaia', 'inhambane', 'nelson bay', 'dingle', 'hobart', 'albany', 'ushuaia', 'mar del plata', 'panzhihua', 'vaini', 'sesheke', 'haslev', 'mahebourg', 'digoin', 'clacton-on-sea', 'mataura', 'ushuaia', 'meadow lake', 'barentsburg', 'butaritari', 'bredasdorp', 'butaritari', 'bluff', 'gorontalo', 'umzimvubu', 'soe', 'makakilo city', 'comrat', 'cape town', 'cherskiy', 'akdepe', 'penarroya-pueblonuevo', 'qaanaaq', 'gambiran', 'hasaki', 'eenhana', 'fortuna', 'new norfolk', 'mahebourg', 'amderma', 'albany', 'nuuk', 'hermanus', 'new norfolk', 'solnechnyy', 'carnarvon', 'saskylakh', 'rikitea', 'vaitupu', 'atuona', 'punta arenas', 'rikitea', 'ushuaia', 'narsaq', 'ushuaia', 'padang', 'sinnamary', 'nuuk', 'hithadhoo', 'arraial do cabo', 'punta arenas', 'grand river south east', 'chuy', 'port elizabeth', 'arlit', 'hermanus', 'victoria', 'lebu', 'vila velha', 'karratha', 'tinskoy', 'georgetown', 'geraldton', 'mahebourg', 'tuktoyaktuk', 'bluff', 'norman wells', 'hilo', 'doka', 'mataura', 'yellowknife', 'ushuaia', 'mataura', 'husavik', 'souillac', 'busselton', 'dumas', 'cao bang', 'arraial do cabo', 'sao joao da barra', 'giyani', 'barentsburg', 'atuona', 'vaitupu', 'puerto ayora', 'hamilton', 'busselton', 'broken hill', 'severo-kurilsk', 'castro', 'faanui', 'dingle', 'laurel', 'barrow', 'ponta do sol', 'airai', 'vaini', 'pueblo', 'mataura', 'dikson', 'saint-pierre', 'beloha', 'kulhudhuffushi', 'pucara', 'shache', 'kidal', 'castro', 'palabuhanratu', 'busselton', 'tuktoyaktuk', 'phan thiet', 'hermanus', 'hobart', 'pringsewu', 'bud', 'illoqqortoormiut', 'mount gambier', 'kapaa', 'prince rupert', 'albany', 'nanortalik', 'mar del plata', 'new norfolk', 'kendari', 'turbat', 'ancud', 'mys shmidta', 'udachnyy', 'shakawe', 'waw', 'zhangjiakou', 'pitimbu', 'tasiilaq', 'hay river', 'hermanus', 'hilo', 'khatanga', 'hermanus', 'gizycko', 'adre', 'khatanga', 'barentsburg', 'guerrero negro', 'ushuaia', 'sentyabrskiy', 'teguldet', 'mahibadhoo', 'hay river', 'taolanaro', 'havelock', 'clyde river', 'georgetown', 'bredasdorp', 'butaritari', 'barrow', 'east london', 'illoqqortoormiut', 'shimanovsk', 'rikitea', 'butaritari', 'ilulissat', 'inverell', 'barrow', 'saint-philippe', 'pevek', 'severnyy', 'waipawa', 'havre-saint-pierre', 'poum', 'ilulissat', 'san quintin', 'tangzhai', 'banda aceh', 'stawell', 'kodiak', 'vanavara', 'camabatela', 'eureka', 'sentyabrskiy', 'butaritari', 'hargeysa', 'rikitea', 'illoqqortoormiut', 'hobart', 'komsomolskiy', 'cherskiy', 'avarua', 'barrow', 'chokurdakh', 'tiksi', 'eha amufu', 'eureka', 'vaini', 'ushuaia', 'berikulskiy', 'mataura', 'atuona', 'erenhot', 'mataura', 'goderich', 'barrow', 'carnaiba', 'port elizabeth', 'mataura', 'rikitea', 'saint-philippe', 'souillac', 'mahebourg', 'saint-philippe', 'kodiak', 'east london', 'quatre cocos', 'bethel', 'vasai', 'isla vista', 'fortuna', 'beidao', 'chokurdakh', 'ushuaia', 'rikitea', 'punta arenas', 'grand river south east', 'macusani', 'belushya guba', 'cape town', 'saskylakh', 'maloshuyka', 'northeim', 'felidhoo', 'neuruppin', 'mar del plata', 'grand-santi', 'ormara', 'rikitea', 'belyy yar', 'smithers', 'atuona', 'hermanus', 'gardan diwal', 'taolanaro', 'nizhneyansk', 'punta arenas', 'ayagoz', 'mrirt', 'sao jose da coroa grande', 'punta arenas', 'rocha', 'tasiilaq', 'busselton', 'castro', 'tasiilaq', 'kapaa', 'nanortalik', 'suhbaatar', 'khatanga', 'hermanus', 'mahebourg', 'new norfolk', 'krasnoselkup', 'popondetta', 'cabo san lucas', 'saint-philippe', 'thompson', 'mataura', 'dikson', 'lagoa', 'ponta do sol', 'broken hill', 'owando', 'arraial do cabo', 'taolanaro', 'carnarvon', 'aklavik', 'vaini', 'bredasdorp', 'sioux lookout', 'fomboni', 'busselton', 'chimbote', 'mys shmidta', 'ushuaia', 'sentyabrskiy', 'busselton', 'bathsheba', 'solnechnyy', 'rikitea', 'denpasar', 'rikitea', 'mataura', 'saint george', 'surt', 'half moon bay', 'cape canaveral', 'kununurra', 'chuy', 'punta arenas', 'chagda', 'guerrero negro', 'rikitea', 'khorixas', 'port alfred', 'butaritari', 'nuuk', 'samusu', 'rikitea', 'inverell', 'rikitea', 'kavaratti', 'tecoanapa', 'vila velha', 'taolanaro', 'busselton', 'ushuaia', 'taolanaro', 'punta arenas', 'jamestown', 'san cristobal', 'mataura', 'east london', 'hilo', 'upernavik', 'mys shmidta', 'vila', 'ushuaia', 'torbay', 'chuy', 'atuona', 'kaliua', 'mitu', 'batagay-alyta', 'taolanaro', 'illoqqortoormiut', 'busselton', 'chernyshevskiy', 'nome', 'baracoa', 'port elizabeth', 'belushya guba', 'iberia', 'vaitupu', 'ushuaia', 'yellowknife', 'bluff', 'asau', 'rikitea', 'taolanaro', 'hermanus', 'busselton', 'codrington', 'lebu', 'albany', 'yellowknife', 'jamestown', 'yellowknife', 'narsaq', 'superior', 'hailun', 'artyk', 'maxixe', 'tsihombe', 'tuktoyaktuk', 'punta arenas', 'lebu', 'jiddah', 'albany', 'sao joao da barra', 'nexo', 'kruisfontein', 'rikitea', 'sudak', 'rikitea', 'hobart', 'taoudenni', 'avarua', 'hervey bay', 'lagoa', 'albany', 'kapaa', 'kavaratti', 'jamestown', 'alofi', 'rikitea', 'carutapera', 'hilo', 'boguchany', 'ushuaia', 'ushuaia', 'samusu', 'itarema', 'khatanga', 'vaitupu', 'hilo', 'tasiilaq', 'kapaa', 'timmins', 'mahebourg', 'grand river south east', 'bazarnyye mataki', 'cidreira', 'busselton', 'tuktoyaktuk', 'longyearbyen', 'mount isa', 'san andres', 'new norfolk', 'namibe', 'busselton', 'meulaboh', 'tanhacu', 'ushuaia', 'albany', 'quelimane', 'vaini', 'tuktoyaktuk', 'bluff', 'puerto ayora', 'adrar', 'carnarvon', 'carnarvon', 'amalapuram', 'ancud', 'bethel', 'lebu', 'taolanaro', 'lebu', 'nanortalik', 'mehamn', 'nikolskoye', 'ixtepec', 'thompson', 'mrirt', 'yakeshi', 'airai', 'athabasca', 'batagay-alyta', 'saldanha', 'honiara', 'thompson', 'ribeira grande', 'kavieng', 'atuona', 'nara', 'itoman', 'hilo', 'atuona', 'punta arenas', 'kjollefjord', 'albany', 'punta arenas', 'mataura', 'puerto ayora', 'bangassou', 'codrington', 'punta arenas', 'rikitea', 'lebu', 'ushuaia', 'maningrida', 'zhitikara', 'port alfred', 'saleaula', 'mana', 'jamestown', 'ulfborg', 'treinta y tres', 'illoqqortoormiut', 'dikson', 'nizhneyansk', 'sentyabrskiy', 'san quintin', 'nikolskoye', 'nizhneyansk', 'nantucket', 'mao', 'atuona', 'puerto ayora', 'adiake', 'huarmey', 'port alfred', 'bengkulu', 'shimoda', 'georgetown', 'georgetown', 'hay river', 'provideniya', 'albany', 'hobart', 'atuona', 'punta arenas', 'kununurra', 'khatanga', 'tefe', 'khatanga', 'bluff', 'illoqqortoormiut', 'kapaa', 'karamay', 'mwandiga', 'kuminskiy', 'punta arenas', 'smolyaninovo', 'tura', 'osakarovka', 'busselton', 'saint george', 'hilo', 'yar-sale', 'qaanaaq', 'cilegon', 'vila franca do campo', 'hobart', 'esperance', 'kodiak', 'vaini', 'yellowknife', 'belyy yar', 'nueve de julio', 'aswan', 'willmar', 'banda aceh', 'katsuura', 'egvekinot', 'amderma', 'bambous virieux', 'saldanha', 'barentsburg', 'bredasdorp', 'lompoc', 'kirakira', 'bredasdorp', 'kapaa', 'saskylakh', 'roblin', 'illoqqortoormiut', 'laranjeiras do sul', 'mugur-aksy', 'longyearbyen', 'kirakira', 'carnarvon', 'tuktoyaktuk', 'attawapiskat', 'georgetown', 'bambous virieux', 'punta arenas', 'port alfred', 'taolanaro', 'bubaque', 'atuona', 'iqaluit', 'muros', 'vaini', 'paamiut', 'mataura', 'curillo', 'mataura', 'ponta do sol', 'tuktoyaktuk', 'sinnamary', 'illoqqortoormiut', 'nikolskoye', 'punta arenas', 'grand gaube', 'ushuaia', 'taolanaro', 'fukue', 'illoqqortoormiut', 'butaritari', 'tasiilaq', 'solnechnyy', 'broken hill', 'rikitea', 'taolanaro', 'albany', 'neryungri', 'rocha', 'hilo', 'rikitea', 'rikitea', 'grand gaube', 'sarangani', 'mataura', 'tete', 'yellowknife', 'liverpool', 'savannah bight', 'kyabe', 'saint-philippe', 'ushuaia', 'fortuna', 'zhezkazgan', 'busselton', 'hobart', 'byron bay', 'barrow', 'phrai bung', 'hobart', 'khatanga', 'illoqqortoormiut', 'yumen', 'lagoa', 'mys shmidta', 'dikson', 'barrow', 'mataura', 'arak', 'samusu', 'busselton', 'yakima', 'jamestown', 'champerico', 'saint george', 'laguna', 'soto la marina', 'upernavik', 'albany', 'georgetown', 'pundaguitan', 'sobolevo', 'severo-kurilsk', 'bengkulu', 'santa marta', 'lewiston', 'faanui', 'tiznit', 'nikolskoye', 'altay', 'mount hagen', 'albany', 'saint-philippe', 'vao', 'mataura']\n"
    }
   ],
   "source": [
    "#Get list of random cities\n",
    "cities = [citipy.nearest_city(rand_lat[i],rand_lon[i]) for i in range(len(rand_lat))]\n",
    "city_names = [cities[i].city_name for i in range(len(cities))]\n",
    "#print(city_names)"
   ]
  },
  {
   "cell_type": "code",
   "execution_count": null,
   "metadata": {},
   "outputs": [],
   "source": []
  }
 ]
}