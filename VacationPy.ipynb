{
 "metadata": {
  "language_info": {
   "codemirror_mode": {
    "name": "ipython",
    "version": 3
   },
   "file_extension": ".py",
   "mimetype": "text/x-python",
   "name": "python",
   "nbconvert_exporter": "python",
   "pygments_lexer": "ipython3",
   "version": "3.8.3-final"
  },
  "orig_nbformat": 2,
  "kernelspec": {
   "name": "python3",
   "display_name": "Python 3"
  }
 },
 "nbformat": 4,
 "nbformat_minor": 2,
 "cells": [
  {
   "cell_type": "code",
   "execution_count": 14,
   "metadata": {},
   "outputs": [],
   "source": [
    "#Dependencies\n",
    "import pandas as pd \n",
    "import numpy as np \n",
    "import gmaps\n",
    "\n",
    "from gconfig import gkey\n",
    "gmaps.configure(api_key=gkey)"
   ]
  },
  {
   "cell_type": "code",
   "execution_count": 21,
   "metadata": {},
   "outputs": [
    {
     "output_type": "execute_result",
     "data": {
      "text/plain": "   Unnamed: 0        Cities    Lat     Lon  Temp (F)  Humidity (%)  \\\n0           0   new norfolk -42.78  147.06     52.20            64   \n1           1   tuktoyaktuk  69.45 -133.04     37.40            71   \n2           2  punta arenas -53.15  -70.92     41.00            75   \n3           3       hanting  36.77  119.21     77.45            67   \n4           4       rikitea -23.12 -134.97     72.28            80   \n\n   Cloudiness (%)  Wind Speed (mph)  \n0              67              4.00  \n1              90              8.05  \n2              20             10.29  \n3              59              2.35  \n4              21             12.08  ",
      "text/html": "<div>\n<style scoped>\n    .dataframe tbody tr th:only-of-type {\n        vertical-align: middle;\n    }\n\n    .dataframe tbody tr th {\n        vertical-align: top;\n    }\n\n    .dataframe thead th {\n        text-align: right;\n    }\n</style>\n<table border=\"1\" class=\"dataframe\">\n  <thead>\n    <tr style=\"text-align: right;\">\n      <th></th>\n      <th>Unnamed: 0</th>\n      <th>Cities</th>\n      <th>Lat</th>\n      <th>Lon</th>\n      <th>Temp (F)</th>\n      <th>Humidity (%)</th>\n      <th>Cloudiness (%)</th>\n      <th>Wind Speed (mph)</th>\n    </tr>\n  </thead>\n  <tbody>\n    <tr>\n      <th>0</th>\n      <td>0</td>\n      <td>new norfolk</td>\n      <td>-42.78</td>\n      <td>147.06</td>\n      <td>52.20</td>\n      <td>64</td>\n      <td>67</td>\n      <td>4.00</td>\n    </tr>\n    <tr>\n      <th>1</th>\n      <td>1</td>\n      <td>tuktoyaktuk</td>\n      <td>69.45</td>\n      <td>-133.04</td>\n      <td>37.40</td>\n      <td>71</td>\n      <td>90</td>\n      <td>8.05</td>\n    </tr>\n    <tr>\n      <th>2</th>\n      <td>2</td>\n      <td>punta arenas</td>\n      <td>-53.15</td>\n      <td>-70.92</td>\n      <td>41.00</td>\n      <td>75</td>\n      <td>20</td>\n      <td>10.29</td>\n    </tr>\n    <tr>\n      <th>3</th>\n      <td>3</td>\n      <td>hanting</td>\n      <td>36.77</td>\n      <td>119.21</td>\n      <td>77.45</td>\n      <td>67</td>\n      <td>59</td>\n      <td>2.35</td>\n    </tr>\n    <tr>\n      <th>4</th>\n      <td>4</td>\n      <td>rikitea</td>\n      <td>-23.12</td>\n      <td>-134.97</td>\n      <td>72.28</td>\n      <td>80</td>\n      <td>21</td>\n      <td>12.08</td>\n    </tr>\n  </tbody>\n</table>\n</div>"
     },
     "metadata": {},
     "execution_count": 21
    }
   ],
   "source": [
    "file_path = \"Results/WeatherPy/citydata.csv\"\n",
    "citydata_df = pd.read_csv(file_path)\n",
    "citydata_df.head()"
   ]
  },
  {
   "cell_type": "code",
   "execution_count": 16,
   "metadata": {},
   "outputs": [],
   "source": [
    "locations = citydata_df[[\"Lat\",\"Lon\"]]\n",
    "humidity = citydata_df[\"Humidity (%)\"].astype(float)"
   ]
  },
  {
   "cell_type": "code",
   "execution_count": 33,
   "metadata": {},
   "outputs": [
    {
     "output_type": "display_data",
     "data": {
      "text/plain": "Figure(layout=FigureLayout(height='420px'))",
      "application/vnd.jupyter.widget-view+json": {
       "version_major": 2,
       "version_minor": 0,
       "model_id": "25b8b108e7e147609508281f81bd36b9"
      }
     },
     "metadata": {}
    }
   ],
   "source": [
    "figure_layout = {\"width\":\"400px\",\"height\":\"600px\",\"margin\":\"0 auto 0 auto\"}\n",
    "fig = gmaps.figure(figure_layout,center=(46.0,-5.0),zoom_level=2)\n",
    "\n",
    "heat_layer = gmaps.heatmap_layer(locations,weights=humidity,dissipating=False,max_intensity=100,point_radius=2)\n",
    "\n",
    "fig.add_layer(heat_layer)\n",
    "\n",
    "fig"
   ]
  },
  {
   "cell_type": "code",
   "execution_count": null,
   "metadata": {},
   "outputs": [],
   "source": []
  }
 ]
}