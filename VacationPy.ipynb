{
 "metadata": {
  "language_info": {
   "codemirror_mode": {
    "name": "ipython",
    "version": 3
   },
   "file_extension": ".py",
   "mimetype": "text/x-python",
   "name": "python",
   "nbconvert_exporter": "python",
   "pygments_lexer": "ipython3",
   "version": "3.8.3-final"
  },
  "orig_nbformat": 2,
  "kernelspec": {
   "name": "python3",
   "display_name": "Python 3"
  }
 },
 "nbformat": 4,
 "nbformat_minor": 2,
 "cells": [
  {
   "cell_type": "code",
   "execution_count": 49,
   "metadata": {},
   "outputs": [],
   "source": [
    "#Dependencies\n",
    "import pandas as pd \n",
    "import numpy as np \n",
    "import gmaps\n",
    "import json\n",
    "\n",
    "from gconfig import gkey\n",
    "gmaps.configure(api_key=gkey)"
   ]
  },
  {
   "cell_type": "code",
   "execution_count": 21,
   "metadata": {},
   "outputs": [
    {
     "output_type": "execute_result",
     "data": {
      "text/plain": "   Unnamed: 0        Cities    Lat     Lon  Temp (F)  Humidity (%)  \\\n0           0   new norfolk -42.78  147.06     52.20            64   \n1           1   tuktoyaktuk  69.45 -133.04     37.40            71   \n2           2  punta arenas -53.15  -70.92     41.00            75   \n3           3       hanting  36.77  119.21     77.45            67   \n4           4       rikitea -23.12 -134.97     72.28            80   \n\n   Cloudiness (%)  Wind Speed (mph)  \n0              67              4.00  \n1              90              8.05  \n2              20             10.29  \n3              59              2.35  \n4              21             12.08  ",
      "text/html": "<div>\n<style scoped>\n    .dataframe tbody tr th:only-of-type {\n        vertical-align: middle;\n    }\n\n    .dataframe tbody tr th {\n        vertical-align: top;\n    }\n\n    .dataframe thead th {\n        text-align: right;\n    }\n</style>\n<table border=\"1\" class=\"dataframe\">\n  <thead>\n    <tr style=\"text-align: right;\">\n      <th></th>\n      <th>Unnamed: 0</th>\n      <th>Cities</th>\n      <th>Lat</th>\n      <th>Lon</th>\n      <th>Temp (F)</th>\n      <th>Humidity (%)</th>\n      <th>Cloudiness (%)</th>\n      <th>Wind Speed (mph)</th>\n    </tr>\n  </thead>\n  <tbody>\n    <tr>\n      <th>0</th>\n      <td>0</td>\n      <td>new norfolk</td>\n      <td>-42.78</td>\n      <td>147.06</td>\n      <td>52.20</td>\n      <td>64</td>\n      <td>67</td>\n      <td>4.00</td>\n    </tr>\n    <tr>\n      <th>1</th>\n      <td>1</td>\n      <td>tuktoyaktuk</td>\n      <td>69.45</td>\n      <td>-133.04</td>\n      <td>37.40</td>\n      <td>71</td>\n      <td>90</td>\n      <td>8.05</td>\n    </tr>\n    <tr>\n      <th>2</th>\n      <td>2</td>\n      <td>punta arenas</td>\n      <td>-53.15</td>\n      <td>-70.92</td>\n      <td>41.00</td>\n      <td>75</td>\n      <td>20</td>\n      <td>10.29</td>\n    </tr>\n    <tr>\n      <th>3</th>\n      <td>3</td>\n      <td>hanting</td>\n      <td>36.77</td>\n      <td>119.21</td>\n      <td>77.45</td>\n      <td>67</td>\n      <td>59</td>\n      <td>2.35</td>\n    </tr>\n    <tr>\n      <th>4</th>\n      <td>4</td>\n      <td>rikitea</td>\n      <td>-23.12</td>\n      <td>-134.97</td>\n      <td>72.28</td>\n      <td>80</td>\n      <td>21</td>\n      <td>12.08</td>\n    </tr>\n  </tbody>\n</table>\n</div>"
     },
     "metadata": {},
     "execution_count": 21
    }
   ],
   "source": [
    "file_path = \"Results/WeatherPy/citydata.csv\"\n",
    "citydata_df = pd.read_csv(file_path)\n",
    "citydata_df.head()"
   ]
  },
  {
   "cell_type": "code",
   "execution_count": 16,
   "metadata": {},
   "outputs": [],
   "source": [
    "locations = citydata_df[[\"Lat\",\"Lon\"]]\n",
    "humidity = citydata_df[\"Humidity (%)\"].astype(float)"
   ]
  },
  {
   "cell_type": "code",
   "execution_count": 33,
   "metadata": {},
   "outputs": [
    {
     "output_type": "display_data",
     "data": {
      "text/plain": "Figure(layout=FigureLayout(height='420px'))",
      "application/vnd.jupyter.widget-view+json": {
       "version_major": 2,
       "version_minor": 0,
       "model_id": "25b8b108e7e147609508281f81bd36b9"
      }
     },
     "metadata": {}
    }
   ],
   "source": [
    "figure_layout = {\"width\":\"400px\",\"height\":\"600px\",\"margin\":\"0 auto 0 auto\"}\n",
    "fig = gmaps.figure(figure_layout,center=(46.0,-5.0),zoom_level=2)\n",
    "\n",
    "heat_layer = gmaps.heatmap_layer(locations,weights=humidity,dissipating=False,max_intensity=100,point_radius=2)\n",
    "\n",
    "fig.add_layer(heat_layer)\n",
    "\n",
    "fig"
   ]
  },
  {
   "cell_type": "code",
   "execution_count": 48,
   "metadata": {},
   "outputs": [
    {
     "output_type": "execute_result",
     "data": {
      "text/plain": "     Unnamed: 0         Cities    Lat     Lon  Temp (F)  Humidity (%)  \\\n40           45         manono  -7.30   27.42     72.70            30   \n249         280          korla  41.76   86.15     71.01            52   \n293         329         silopi  37.25   42.47     79.29            18   \n356         401           mudu  31.25  120.51     78.01            69   \n363         408  alice springs -23.70  133.88     71.89            18   \n378         425         najran  17.49   44.13     77.00            27   \n412         468      palagiano  40.58   17.04     72.37            65   \n458         518            hun  29.13   15.95     74.79            56   \n544         620          darab  28.75   54.54     74.35            37   \n\n     Cloudiness (%)  Wind Speed (mph)  \n40                0              4.05  \n249               0              1.99  \n293               0              2.01  \n356               0              5.66  \n363               0              9.17  \n378               0              2.35  \n412               0              1.95  \n458               0              6.64  \n544               0              1.43  ",
      "text/html": "<div>\n<style scoped>\n    .dataframe tbody tr th:only-of-type {\n        vertical-align: middle;\n    }\n\n    .dataframe tbody tr th {\n        vertical-align: top;\n    }\n\n    .dataframe thead th {\n        text-align: right;\n    }\n</style>\n<table border=\"1\" class=\"dataframe\">\n  <thead>\n    <tr style=\"text-align: right;\">\n      <th></th>\n      <th>Unnamed: 0</th>\n      <th>Cities</th>\n      <th>Lat</th>\n      <th>Lon</th>\n      <th>Temp (F)</th>\n      <th>Humidity (%)</th>\n      <th>Cloudiness (%)</th>\n      <th>Wind Speed (mph)</th>\n    </tr>\n  </thead>\n  <tbody>\n    <tr>\n      <th>40</th>\n      <td>45</td>\n      <td>manono</td>\n      <td>-7.30</td>\n      <td>27.42</td>\n      <td>72.70</td>\n      <td>30</td>\n      <td>0</td>\n      <td>4.05</td>\n    </tr>\n    <tr>\n      <th>249</th>\n      <td>280</td>\n      <td>korla</td>\n      <td>41.76</td>\n      <td>86.15</td>\n      <td>71.01</td>\n      <td>52</td>\n      <td>0</td>\n      <td>1.99</td>\n    </tr>\n    <tr>\n      <th>293</th>\n      <td>329</td>\n      <td>silopi</td>\n      <td>37.25</td>\n      <td>42.47</td>\n      <td>79.29</td>\n      <td>18</td>\n      <td>0</td>\n      <td>2.01</td>\n    </tr>\n    <tr>\n      <th>356</th>\n      <td>401</td>\n      <td>mudu</td>\n      <td>31.25</td>\n      <td>120.51</td>\n      <td>78.01</td>\n      <td>69</td>\n      <td>0</td>\n      <td>5.66</td>\n    </tr>\n    <tr>\n      <th>363</th>\n      <td>408</td>\n      <td>alice springs</td>\n      <td>-23.70</td>\n      <td>133.88</td>\n      <td>71.89</td>\n      <td>18</td>\n      <td>0</td>\n      <td>9.17</td>\n    </tr>\n    <tr>\n      <th>378</th>\n      <td>425</td>\n      <td>najran</td>\n      <td>17.49</td>\n      <td>44.13</td>\n      <td>77.00</td>\n      <td>27</td>\n      <td>0</td>\n      <td>2.35</td>\n    </tr>\n    <tr>\n      <th>412</th>\n      <td>468</td>\n      <td>palagiano</td>\n      <td>40.58</td>\n      <td>17.04</td>\n      <td>72.37</td>\n      <td>65</td>\n      <td>0</td>\n      <td>1.95</td>\n    </tr>\n    <tr>\n      <th>458</th>\n      <td>518</td>\n      <td>hun</td>\n      <td>29.13</td>\n      <td>15.95</td>\n      <td>74.79</td>\n      <td>56</td>\n      <td>0</td>\n      <td>6.64</td>\n    </tr>\n    <tr>\n      <th>544</th>\n      <td>620</td>\n      <td>darab</td>\n      <td>28.75</td>\n      <td>54.54</td>\n      <td>74.35</td>\n      <td>37</td>\n      <td>0</td>\n      <td>1.43</td>\n    </tr>\n  </tbody>\n</table>\n</div>"
     },
     "metadata": {},
     "execution_count": 48
    }
   ],
   "source": [
    "temp_df = citydata_df.loc[citydata_df[\"Temp (F)\"] > 70]\n",
    "good_temp_df = temp_df.loc[temp_df[\"Temp (F)\"] <= 80]\n",
    "no_wind_df = good_temp_df.loc[good_temp_df[\"Wind Speed (mph)\"] < 10]\n",
    "no_clouds_df = no_wind_df.loc[no_wind_df[\"Cloudiness (%)\"] == 0]\n",
    "dest_df = no_clouds_df.loc[no_clouds_df[\"Humidity (%)\"] < 75]\n",
    "dest_df.head(9)"
   ]
  },
  {
   "cell_type": "code",
   "execution_count": 77,
   "metadata": {
    "tags": [
     "outputPrepend"
    ]
   },
   "outputs": [
    {
     "output_type": "stream",
     "name": "stdout",
     "text": "                    \"lng\": 86.15018707010728\n                    }\n                }\n            },\n            \"icon\": \"https://maps.gstatic.com/mapfiles/place_api/icons/generic_business-71.png\",\n            \"name\": \"Haiyu Love Theme Hotel\",\n            \"place_id\": \"ChIJBVlJG2nREzgRvdU6aaolP18\",\n            \"plus_code\": {\n                \"compound_code\": \"Q572+7M Tianshan Residential District, Korla, Bayingolin Mongol Autonomous Prefecture, Xinjiang, China\",\n                \"global_code\": \"8MH8Q572+7M\"\n            },\n            \"rating\": 3,\n            \"reference\": \"ChIJBVlJG2nREzgRvdU6aaolP18\",\n            \"scope\": \"GOOGLE\",\n            \"types\": [\n                \"point_of_interest\",\n                \"establishment\"\n            ],\n            \"user_ratings_total\": 1,\n            \"vicinity\": \"Near Renmin East Road, Korla\"\n        },\n        {\n            \"business_status\": \"OPERATIONAL\",\n            \"geometry\": {\n                \"location\": {\n                    \"lat\": 41.777548,\n                    \"lng\": 86.14833999999999\n                },\n                \"viewport\": {\n                    \"northeast\": {\n                        \"lat\": 41.77885602989272,\n                        \"lng\": 86.1499000298927\n                    },\n                    \"southwest\": {\n                        \"lat\": 41.77615637010727,\n                        \"lng\": 86.14720037010726\n                    }\n                }\n            },\n            \"icon\": \"https://maps.gstatic.com/mapfiles/place_api/icons/generic_business-71.png\",\n            \"name\": \"GreenTree Inn Xinjiang Uighur Korla City Bavaria Bus Station Beishan Road Express Hotel\",\n            \"place_id\": \"ChIJ00VS6NjTEzgRmQQisoym9E0\",\n            \"plus_code\": {\n                \"compound_code\": \"Q4HX+28 Sayibage Residential District, Korla, Bayingolin Mongol Autonomous Prefecture, Xinjiang, China\",\n                \"global_code\": \"8MH8Q4HX+28\"\n            },\n            \"rating\": 0,\n            \"reference\": \"ChIJ00VS6NjTEzgRmQQisoym9E0\",\n            \"scope\": \"GOOGLE\",\n            \"types\": [\n                \"point_of_interest\",\n                \"establishment\"\n            ],\n            \"user_ratings_total\": 0,\n            \"vicinity\": \"No.15 Beishan Road, Korla\"\n        },\n        {\n            \"business_status\": \"OPERATIONAL\",\n            \"geometry\": {\n                \"location\": {\n                    \"lat\": 41.759487,\n                    \"lng\": 86.15325\n                },\n                \"viewport\": {\n                    \"northeast\": {\n                        \"lat\": 41.76080677989272,\n                        \"lng\": 86.15461982989272\n                    },\n                    \"southwest\": {\n                        \"lat\": 41.75810712010728,\n                        \"lng\": 86.15192017010727\n                    }\n                }\n            },\n            \"icon\": \"https://maps.gstatic.com/mapfiles/place_api/icons/lodging-71.png\",\n            \"name\": \"The Garden Hotel Korla\",\n            \"photos\": [\n                {\n                    \"height\": 3120,\n                    \"html_attributions\": [\n                        \"<a href=\\\"https://maps.google.com/maps/contrib/101939868861482535492\\\">Saikit</a>\"\n                    ],\n                    \"photo_reference\": \"CkQ0AAAASlR18k_6OwC4sM7K2kPPJwpnI08SnU0uIAp1Mbc9jCNCKSKydNfKhWq7MjytHIXWl0VOGrRxhZVWWJ60XlEovBIQg6Lc9gOEAVbw87UVmTMegxoUm91j3B0wJ9N0v5UZUt_mjQIL22w\",\n                    \"width\": 4160\n                }\n            ],\n            \"place_id\": \"ChIJe0vCj2XREzgRibgt6n5vM0I\",\n            \"plus_code\": {\n                \"compound_code\": \"Q553+Q8 Tianshan Residential District, Korla, Bayingolin Mongol Autonomous Prefecture, Xinjiang, China\",\n                \"global_code\": \"8MH8Q553+Q8\"\n            },\n            \"rating\": 3.9,\n            \"reference\": \"ChIJe0vCj2XREzgRibgt6n5vM0I\",\n            \"scope\": \"GOOGLE\",\n            \"types\": [\n                \"lodging\",\n                \"point_of_interest\",\n                \"establishment\"\n            ],\n            \"user_ratings_total\": 40,\n            \"vicinity\": \"20 Binhe Rd, Korla, Bayingolin Mongol Autonomous Prefecture\"\n        },\n        {\n            \"business_status\": \"OPERATIONAL\",\n            \"geometry\": {\n                \"location\": {\n                    \"lat\": 41.759915,\n                    \"lng\": 86.135153\n                },\n                \"viewport\": {\n                    \"northeast\": {\n                        \"lat\": 41.76130867989272,\n                        \"lng\": 86.13651897989273\n                    },\n                    \"southwest\": {\n                        \"lat\": 41.75860902010728,\n                        \"lng\": 86.13381932010728\n                    }\n                }\n            },\n            \"icon\": \"https://maps.gstatic.com/mapfiles/place_api/icons/lodging-71.png\",\n            \"name\": \"Bositeng Hotel\",\n            \"place_id\": \"ChIJu0j273XREzgRbVw2b4NTQK8\",\n            \"plus_code\": {\n                \"compound_code\": \"Q45P+X3 Tuanjie Road Residential District, Korla, Bayingolin Mongol Autonomous Prefecture, Xinjiang, China\",\n                \"global_code\": \"8MH8Q45P+X3\"\n            },\n            \"rating\": 4,\n            \"reference\": \"ChIJu0j273XREzgRbVw2b4NTQK8\",\n            \"scope\": \"GOOGLE\",\n            \"types\": [\n                \"lodging\",\n                \"point_of_interest\",\n                \"establishment\"\n            ],\n            \"user_ratings_total\": 2,\n            \"vicinity\": \"92 Renmin W Rd, Korla, Bayingolin Mongol Autonomous Prefecture\"\n        },\n        {\n            \"business_status\": \"OPERATIONAL\",\n            \"geometry\": {\n                \"location\": {\n                    \"lat\": 41.7587482,\n                    \"lng\": 86.1804025\n                },\n                \"viewport\": {\n                    \"northeast\": {\n                        \"lat\": 41.75999127989272,\n                        \"lng\": 86.18154927989272\n                    },\n                    \"southwest\": {\n                        \"lat\": 41.75729162010728,\n                        \"lng\": 86.17884962010727\n                    }\n                }\n            },\n            \"icon\": \"https://maps.gstatic.com/mapfiles/place_api/icons/lodging-71.png\",\n            \"name\": \"Kuerle Mingyue Crown Bouquet Hotel\",\n            \"place_id\": \"ChIJP_yrd7bWEzgRaOwbryd7pZc\",\n            \"plus_code\": {\n                \"compound_code\": \"Q55J+F5 Jianshe Residential District, Korla, Bayingolin Mongol Autonomous Prefecture, Xinjiang, China\",\n                \"global_code\": \"8MH8Q55J+F5\"\n            },\n            \"rating\": 0,\n            \"reference\": \"ChIJP_yrd7bWEzgRaOwbryd7pZc\",\n            \"scope\": \"GOOGLE\",\n            \"types\": [\n                \"lodging\",\n                \"point_of_interest\",\n                \"establishment\"\n            ],\n            \"user_ratings_total\": 0,\n            \"vicinity\": \"\\u5e93\\u5c14\\u52d2\\u7d22\\u514b\\u5df4\\u683c\\u8def\\u4e0e\\u65b0\\u57ce\\u5317\\u8def\\u4ea4\\u754c\\u53e3\\uff0c\\u4e1c\\u5cb8\\u7f8e\\u5e90\\u5c0f\\u533a\\u65c1\"\n        },\n        {\n            \"business_status\": \"OPERATIONAL\",\n            \"geometry\": {\n                \"location\": {\n                    \"lat\": 41.764385,\n                    \"lng\": 86.19865999999999\n                },\n                \"viewport\": {\n                    \"northeast\": {\n                        \"lat\": 41.76530994999999,\n                        \"lng\": 86.20055872989272\n                    },\n                    \"southwest\": {\n                        \"lat\": 41.76161015000001,\n                        \"lng\": 86.19785907010727\n                    }\n                }\n            },\n            \"icon\": \"https://maps.gstatic.com/mapfiles/place_api/icons/lodging-71.png\",\n            \"name\": \"Korla tongxin hotel\",\n            \"place_id\": \"ChIJlWoY8JbWEzgRo5Uda0o4xhw\",\n            \"plus_code\": {\n                \"compound_code\": \"Q57X+QF Sayibage Residential District, Korla, Bayingolin Mongol Autonomous Prefecture, Xinjiang, China\",\n                \"global_code\": \"8MH8Q57X+QF\"\n            },\n            \"rating\": 0,\n            \"reference\": \"ChIJlWoY8JbWEzgRo5Uda0o4xhw\",\n            \"scope\": \"GOOGLE\",\n            \"types\": [\n                \"lodging\",\n                \"point_of_interest\",\n                \"establishment\"\n            ],\n            \"user_ratings_total\": 0,\n            \"vicinity\": \"no. 218 longshan market yard, China/xinjiang/korla new, 218 National Rd, Korla\"\n        },\n        {\n            \"business_status\": \"OPERATIONAL\",\n            \"geometry\": {\n                \"location\": {\n                    \"lat\": 41.72203,\n                    \"lng\": 86.17863\n                },\n                \"viewport\": {\n                    \"northeast\": {\n                        \"lat\": 41.72322192989272,\n                        \"lng\": 86.17983022989273\n                    },\n                    \"southwest\": {\n                        \"lat\": 41.72052227010728,\n                        \"lng\": 86.17713057010728\n                    }\n                }\n            },\n            \"icon\": \"https://maps.gstatic.com/mapfiles/place_api/icons/lodging-71.png\",\n            \"name\": \"Lavande Hotel\",\n            \"place_id\": \"ChIJa1hjdjTXEzgRAJbmIF-LzAo\",\n            \"plus_code\": {\n                \"compound_code\": \"P5CH+RF Xincheng Residential District, Korla, Bayingolin Mongol Autonomous Prefecture, Xinjiang, China\",\n                \"global_code\": \"8MH8P5CH+RF\"\n            },\n            \"rating\": 0,\n            \"reference\": \"ChIJa1hjdjTXEzgRAJbmIF-LzAo\",\n            \"scope\": \"GOOGLE\",\n            \"types\": [\n                \"lodging\",\n                \"point_of_interest\",\n                \"establishment\"\n            ],\n            \"user_ratings_total\": 0,\n            \"vicinity\": \"Building 3, Haibin Commercial City, No.6, Yan'an Rd, Korla\"\n        },\n        {\n            \"business_status\": \"OPERATIONAL\",\n            \"geometry\": {\n                \"location\": {\n                    \"lat\": 41.790554,\n                    \"lng\": 86.16581\n                },\n                \"viewport\": {\n                    \"northeast\": {\n                        \"lat\": 41.79147627989272,\n                        \"lng\": 86.16683562989272\n                    },\n                    \"southwest\": {\n                        \"lat\": 41.78877662010727,\n                        \"lng\": 86.16413597010727\n                    }\n                }\n            },\n            \"icon\": \"https://maps.gstatic.com/mapfiles/place_api/icons/lodging-71.png\",\n            \"name\": \"Kuerle gold brick express hotel\",\n            \"place_id\": \"ChIJ6XdU7vHTEzgR1o9EaL_998c\",\n            \"plus_code\": {\n                \"compound_code\": \"Q5R8+68 Sayibage Residential District, Korla, Bayingolin Mongol Autonomous Prefecture, Xinjiang, China\",\n                \"global_code\": \"8MH8Q5R8+68\"\n            },\n            \"rating\": 0,\n            \"reference\": \"ChIJ6XdU7vHTEzgR1o9EaL_998c\",\n            \"scope\": \"GOOGLE\",\n            \"types\": [\n                \"lodging\",\n                \"point_of_interest\",\n                \"establishment\"\n            ],\n            \"user_ratings_total\": 0,\n            \"vicinity\": \"hualing market aluminum area eastbound 500 meters, Korla, Bayinguoleng Mengguzizhizhou\"\n        },\n        {\n            \"business_status\": \"OPERATIONAL\",\n            \"geometry\": {\n                \"location\": {\n                    \"lat\": 41.763806,\n                    \"lng\": 86.152559\n                },\n                \"viewport\": {\n                    \"northeast\": {\n                        \"lat\": 41.76520862989272,\n                        \"lng\": 86.15385112989273\n                    },\n                    \"southwest\": {\n                        \"lat\": 41.76250897010728,\n                        \"lng\": 86.15115147010728\n                    }\n                }\n            },\n            \"icon\": \"https://maps.gstatic.com/mapfiles/place_api/icons/lodging-71.png\",\n            \"name\": \"Silver Star Hotel\",\n            \"photos\": [\n                {\n                    \"height\": 4032,\n                    \"html_attributions\": [\n                        \"<a href=\\\"https://maps.google.com/maps/contrib/116644335386030327775\\\">\\u0e21\\u0e32\\u0e19\\u0e30 \\u0e01\\u0e32\\u0e0d\\u0e08\\u0e19\\u0e41\\u0e2a\\u0e19\\u0e2a\\u0e48\\u0e07</a>\"\n                    ],\n                    \"photo_reference\": \"CkQ0AAAA7swtOzavg6U2Q8PtO4P4HHL9UMK5RXBCAEKrfGSkCWEqFCx3hXxRk5BMuDHzwZNCljLQDpfeBYvQy5xSUaFr2RIQky4S1SSfq0zwoZCZ4_jGwhoUegwhlYXEuwpCMXhfZVuELafDY-4\",\n                    \"width\": 3024\n                }\n            ],\n            \"place_id\": \"ChIJATtwVGjREzgR76vdWHUzITE\",\n            \"plus_code\": {\n                \"compound_code\": \"Q573+G2 Tianshan Residential District, Korla, Bayingolin Mongol Autonomous Prefecture, Xinjiang, China\",\n                \"global_code\": \"8MH8Q573+G2\"\n            },\n            \"rating\": 0,\n            \"reference\": \"ChIJATtwVGjREzgR76vdWHUzITE\",\n            \"scope\": \"GOOGLE\",\n            \"types\": [\n                \"lodging\",\n                \"point_of_interest\",\n                \"establishment\"\n            ],\n            \"user_ratings_total\": 0,\n            \"vicinity\": \"36 Renmin E Rd, Korla, Bayingolin Mongol Autonomous Prefecture\"\n        },\n        {\n            \"business_status\": \"OPERATIONAL\",\n            \"geometry\": {\n                \"location\": {\n                    \"lat\": 41.75183,\n                    \"lng\": 86.18368\n                },\n                \"viewport\": {\n                    \"northeast\": {\n                        \"lat\": 41.75316442989272,\n                        \"lng\": 86.18487007989272\n                    },\n                    \"southwest\": {\n                        \"lat\": 41.75046477010728,\n                        \"lng\": 86.18217042010727\n                    }\n                }\n            },\n            \"icon\": \"https://maps.gstatic.com/mapfiles/place_api/icons/lodging-71.png\",\n            \"name\": \"Korla shuhao hotel\",\n            \"place_id\": \"ChIJf_5dMc_WEzgRDwg6LKhAfq8\",\n            \"plus_code\": {\n                \"compound_code\": \"Q52M+PF Jianshe Residential District, Korla, Bayingolin Mongol Autonomous Prefecture, Xinjiang, China\",\n                \"global_code\": \"8MH8Q52M+PF\"\n            },\n            \"rating\": 0,\n            \"reference\": \"ChIJf_5dMc_WEzgRDwg6LKhAfq8\",\n            \"scope\": \"GOOGLE\",\n            \"types\": [\n                \"lodging\",\n                \"point_of_interest\",\n                \"establishment\"\n            ],\n            \"user_ratings_total\": 0,\n            \"vicinity\": \"Floor 2-4, building B, xinhua market, Xiangli Ave, Korla\"\n        },\n        {\n            \"business_status\": \"OPERATIONAL\",\n            \"geometry\": {\n                \"location\": {\n                    \"lat\": 41.7631209,\n                    \"lng\": 86.143537\n                },\n                \"viewport\": {\n                    \"northeast\": {\n                        \"lat\": 41.76443342989271,\n                        \"lng\": 86.14492032989273\n                    },\n                    \"southwest\": {\n                        \"lat\": 41.76173377010727,\n                        \"lng\": 86.14222067010728\n                    }\n                }\n            },\n            \"icon\": \"https://maps.gstatic.com/mapfiles/place_api/icons/lodging-71.png\",\n            \"name\": \"Golden Times Hotel\",\n            \"place_id\": \"ChIJgUzGynHREzgRJJsfOLTWVK8\",\n            \"plus_code\": {\n                \"compound_code\": \"Q47V+6C Tuanjie Road Residential District, Korla, Bayingolin Mongol Autonomous Prefecture, Xinjiang, China\",\n                \"global_code\": \"8MH8Q47V+6C\"\n            },\n            \"rating\": 0,\n            \"reference\": \"ChIJgUzGynHREzgRJJsfOLTWVK8\",\n            \"scope\": \"GOOGLE\",\n            \"types\": [\n                \"lodging\",\n                \"point_of_interest\",\n                \"establishment\"\n            ],\n            \"user_ratings_total\": 0,\n            \"vicinity\": \"Bayin W Rd, Korla, Bayingolin Mongol Autonomous Prefecture\"\n        },\n        {\n            \"business_status\": \"OPERATIONAL\",\n            \"geometry\": {\n                \"location\": {\n                    \"lat\": 41.72606,\n                    \"lng\": 86.179665\n                },\n                \"viewport\": {\n                    \"northeast\": {\n                        \"lat\": 41.72784932989272,\n                        \"lng\": 86.18107452989273\n                    },\n                    \"southwest\": {\n                        \"lat\": 41.72514967010728,\n                        \"lng\": 86.17837487010729\n                    }\n                }\n            },\n            \"icon\": \"https://maps.gstatic.com/mapfiles/place_api/icons/lodging-71.png\",\n            \"name\": \"Korla xindu business hotel\",\n            \"place_id\": \"ChIJPyEuGDLXEzgRKVW_bCTahiA\",\n            \"plus_code\": {\n                \"compound_code\": \"P5GH+CV Xincheng Residential District, Korla, Bayingolin Mongol Autonomous Prefecture, Xinjiang, China\",\n                \"global_code\": \"8MH8P5GH+CV\"\n            },\n            \"rating\": 0,\n            \"reference\": \"ChIJPyEuGDLXEzgRKVW_bCTahiA\",\n            \"scope\": \"GOOGLE\",\n            \"types\": [\n                \"lodging\",\n                \"point_of_interest\",\n                \"establishment\"\n            ],\n            \"user_ratings_total\": 0,\n            \"vicinity\": \"Limin Rd, no. 19, Korla, Bayinguoleng Mengguzizhizhou\"\n        },\n        {\n            \"business_status\": \"OPERATIONAL\",\n            \"geometry\": {\n                \"location\": {\n                    \"lat\": 41.753711,\n                    \"lng\": 86.15557199999999\n                },\n                \"viewport\": {\n                    \"northeast\": {\n                        \"lat\": 41.75506132989272,\n                        \"lng\": 86.15692237989272\n                    },\n                    \"southwest\": {\n                        \"lat\": 41.75236167010728,\n                        \"lng\": 86.15422272010727\n                    }\n                }\n            },\n            \"icon\": \"https://maps.gstatic.com/mapfiles/place_api/icons/lodging-71.png\",\n            \"name\": \"Tarim Petroleum Hotel\",\n            \"place_id\": \"ChIJU1pSMz7REzgRSlZF4RX4pEo\",\n            \"plus_code\": {\n                \"compound_code\": \"Q534+F6 Jianshe Residential District, Korla, Bayingolin Mongol Autonomous Prefecture, Xinjiang, China\",\n                \"global_code\": \"8MH8Q534+F6\"\n            },\n            \"rating\": 0,\n            \"reference\": \"ChIJU1pSMz7REzgRSlZF4RX4pEo\",\n            \"scope\": \"GOOGLE\",\n            \"types\": [\n                \"lodging\",\n                \"point_of_interest\",\n                \"establishment\"\n            ],\n            \"user_ratings_total\": 0,\n            \"vicinity\": \"Shihua Century Ave, Korla, Bayingolin Mongol Autonomous Prefecture\"\n        },\n        {\n            \"business_status\": \"OPERATIONAL\",\n            \"geometry\": {\n                \"location\": {\n                    \"lat\": 41.76168,\n                    \"lng\": 86.15519\n                },\n                \"viewport\": {\n                    \"northeast\": {\n                        \"lat\": 41.76306452989272,\n                        \"lng\": 86.15664392989271\n                    },\n                    \"southwest\": {\n                        \"lat\": 41.76036487010727,\n                        \"lng\": 86.15394427010726\n                    }\n                }\n            },\n            \"icon\": \"https://maps.gstatic.com/mapfiles/place_api/icons/lodging-71.png\",\n            \"name\": \"UP Boutique Hotel\",\n            \"place_id\": \"ChIJ8WrDBULREzgRB-onEsNIWPU\",\n            \"plus_code\": {\n                \"compound_code\": \"Q564+M3 Tianshan Residential District, Korla, Bayingolin Mongol Autonomous Prefecture, Xinjiang, China\",\n                \"global_code\": \"8MH8Q564+M3\"\n            },\n            \"rating\": 0,\n            \"reference\": \"ChIJ8WrDBULREzgRB-onEsNIWPU\",\n            \"scope\": \"GOOGLE\",\n            \"types\": [\n                \"lodging\",\n                \"point_of_interest\",\n                \"establishment\"\n            ],\n            \"user_ratings_total\": 0,\n            \"vicinity\": \"No.12 Lixiang Road, Korla\"\n        }\n    ],\n    \"status\": \"OK\"\n}\n"
    }
   ],
   "source": [
    "#target_coords = dest_df[[\"Lat\",\"Lon\"]]\n",
    "target_search = \"hotel\"\n",
    "target_radius = 5000\n",
    "target_type = \"hotel\"\n",
    "\n",
    "#test result\n",
    "params = {\"location\" : \"41.76,86.15\", \"keyword\" : target_search, \"radius\" : target_radius, \"type\" : target_type, \"key\" : gkey}\n",
    "\n",
    "base_url = \"https://maps.googleapis.com/maps/api/place/nearbysearch/json\"\n",
    "\n",
    "response = requests.get(base_url, params=params).json()\n",
    "print(json.dumps(response,indent=4,sort_keys=True))"
   ]
  },
  {
   "cell_type": "code",
   "execution_count": 96,
   "metadata": {},
   "outputs": [
    {
     "output_type": "execute_result",
     "data": {
      "text/plain": "     Unnamed: 0         Cities    Lat     Lon  Temp (F)  Humidity (%)  \\\n40           45         manono  -7.30   27.42     72.70            30   \n249         280          korla  41.76   86.15     71.01            52   \n293         329         silopi  37.25   42.47     79.29            18   \n356         401           mudu  31.25  120.51     78.01            69   \n363         408  alice springs -23.70  133.88     71.89            18   \n\n     Cloudiness (%)  Wind Speed (mph) Hotel Name City Country Hotel Lat  \\\n40                0              4.05                                     \n249               0              1.99                                     \n293               0              2.01                                     \n356               0              5.66                                     \n363               0              9.17                                     \n\n    Hotel Lon  \n40             \n249            \n293            \n356            \n363            ",
      "text/html": "<div>\n<style scoped>\n    .dataframe tbody tr th:only-of-type {\n        vertical-align: middle;\n    }\n\n    .dataframe tbody tr th {\n        vertical-align: top;\n    }\n\n    .dataframe thead th {\n        text-align: right;\n    }\n</style>\n<table border=\"1\" class=\"dataframe\">\n  <thead>\n    <tr style=\"text-align: right;\">\n      <th></th>\n      <th>Unnamed: 0</th>\n      <th>Cities</th>\n      <th>Lat</th>\n      <th>Lon</th>\n      <th>Temp (F)</th>\n      <th>Humidity (%)</th>\n      <th>Cloudiness (%)</th>\n      <th>Wind Speed (mph)</th>\n      <th>Hotel Name</th>\n      <th>City</th>\n      <th>Country</th>\n      <th>Hotel Lat</th>\n      <th>Hotel Lon</th>\n    </tr>\n  </thead>\n  <tbody>\n    <tr>\n      <th>40</th>\n      <td>45</td>\n      <td>manono</td>\n      <td>-7.30</td>\n      <td>27.42</td>\n      <td>72.70</td>\n      <td>30</td>\n      <td>0</td>\n      <td>4.05</td>\n      <td></td>\n      <td></td>\n      <td></td>\n      <td></td>\n      <td></td>\n    </tr>\n    <tr>\n      <th>249</th>\n      <td>280</td>\n      <td>korla</td>\n      <td>41.76</td>\n      <td>86.15</td>\n      <td>71.01</td>\n      <td>52</td>\n      <td>0</td>\n      <td>1.99</td>\n      <td></td>\n      <td></td>\n      <td></td>\n      <td></td>\n      <td></td>\n    </tr>\n    <tr>\n      <th>293</th>\n      <td>329</td>\n      <td>silopi</td>\n      <td>37.25</td>\n      <td>42.47</td>\n      <td>79.29</td>\n      <td>18</td>\n      <td>0</td>\n      <td>2.01</td>\n      <td></td>\n      <td></td>\n      <td></td>\n      <td></td>\n      <td></td>\n    </tr>\n    <tr>\n      <th>356</th>\n      <td>401</td>\n      <td>mudu</td>\n      <td>31.25</td>\n      <td>120.51</td>\n      <td>78.01</td>\n      <td>69</td>\n      <td>0</td>\n      <td>5.66</td>\n      <td></td>\n      <td></td>\n      <td></td>\n      <td></td>\n      <td></td>\n    </tr>\n    <tr>\n      <th>363</th>\n      <td>408</td>\n      <td>alice springs</td>\n      <td>-23.70</td>\n      <td>133.88</td>\n      <td>71.89</td>\n      <td>18</td>\n      <td>0</td>\n      <td>9.17</td>\n      <td></td>\n      <td></td>\n      <td></td>\n      <td></td>\n      <td></td>\n    </tr>\n  </tbody>\n</table>\n</div>"
     },
     "metadata": {},
     "execution_count": 96
    }
   ],
   "source": [
    "#Add columns for hotel info\n",
    "dest_df[\"Hotel Name\"] = \"\"\n",
    "dest_df[\"City\"] = \"\"\n",
    "dest_df[\"Country\"] = \"\"\n",
    "dest_df[\"Hotel Lat\"] = \"\"\n",
    "dest_df[\"Hotel Lon\"] = \"\"\n",
    "\n",
    "dest_df.head()"
   ]
  },
  {
   "cell_type": "code",
   "execution_count": 97,
   "metadata": {
    "tags": []
   },
   "outputs": [
    {
     "output_type": "stream",
     "name": "stdout",
     "text": "Retrieving results for Index 40: manono...\nClosest hotel is Hotel hewa bora.\n------------\nRetrieving results for Index 249: korla...\nClosest hotel is Kangcheng Jian Guo International Hotel.\n------------\nRetrieving results for Index 293: silopi...\nClosest hotel is Grand Hotel.\n------------\nRetrieving results for Index 356: mudu...\nClosest hotel is Shangri-La Hotel, Suzhou.\n------------\nRetrieving results for Index 363: alice springs...\nClosest hotel is DoubleTree by Hilton Hotel Alice Springs.\n------------\nRetrieving results for Index 378: najran...\nMissing field/result... skipping...\n------------\nRetrieving results for Index 412: palagiano...\nClosest hotel is Accord Le Rose Hotel Taranto Palagiano Hotel.\n------------\nRetrieving results for Index 458: hun...\nClosest hotel is Alrwasi Hotel.\n------------\nRetrieving results for Index 544: darab...\nClosest hotel is Naghshe shapoor Hotel.\n------------\n"
    }
   ],
   "source": [
    "base_url = \"https://maps.googleapis.com/maps/api/place/nearbysearch/json\"\n",
    "\n",
    "params = {\"keyword\" : target_search, \"radius\" : target_radius, \"type\" : target_type, \"key\" : gkey}\n",
    "\n",
    "markers_lat = []\n",
    "markers_lon = []\n",
    "for index, row in dest_df.iterrows():\n",
    "    dest_city = row[\"Cities\"]\n",
    "    dest_lat = row[\"Lat\"]\n",
    "    dest_lon = row[\"Lon\"]\n",
    "\n",
    "    params[\"location\"] = (f\"{dest_lat}, {dest_lon}\")\n",
    "\n",
    "    print(f\"Retrieving results for Index {index}: {dest_city}...\")\n",
    "    response = requests.get(base_url,params=params).json()\n",
    "    results = response[\"results\"]\n",
    "\n",
    "    try:\n",
    "        print(f\"Closest hotel is {results[0]['name']}.\")\n",
    "\n",
    "        dest_df.loc[index, \"Hotel Name\"] = results[0][\"name\"]\n",
    "        dest_df.loc[index, \"City\"] = results[0][\"vicinity\"]\n",
    "\n",
    "        dest_df.loc[index, \"Hotel Lat\"] = results[0][\"geometry\"][\"location\"][\"lat\"]\n",
    "        dest_df.loc[index, \"Hotel Lon\"] = results[0][\"geometry\"][\"location\"][\"lng\"]\n",
    "\n",
    "        markers_lat.append(hotel_lat)\n",
    "        markers_lon.append(hotel_lon)\n",
    "\n",
    "    except (KeyError,IndexError):\n",
    "        print(f\"Missing field/result... skipping...\")\n",
    "\n",
    "    print(\"------------\")\n",
    "\n"
   ]
  },
  {
   "cell_type": "code",
   "execution_count": 98,
   "metadata": {},
   "outputs": [
    {
     "output_type": "execute_result",
     "data": {
      "text/plain": "     Unnamed: 0         Cities    Lat     Lon  Temp (F)  Humidity (%)  \\\n40           45         manono  -7.30   27.42     72.70            30   \n249         280          korla  41.76   86.15     71.01            52   \n293         329         silopi  37.25   42.47     79.29            18   \n356         401           mudu  31.25  120.51     78.01            69   \n363         408  alice springs -23.70  133.88     71.89            18   \n378         425         najran  17.49   44.13     77.00            27   \n412         468      palagiano  40.58   17.04     72.37            65   \n458         518            hun  29.13   15.95     74.79            56   \n544         620          darab  28.75   54.54     74.35            37   \n\n     Cloudiness (%)  Wind Speed (mph)  \\\n40                0              4.05   \n249               0              1.99   \n293               0              2.01   \n356               0              5.66   \n363               0              9.17   \n378               0              2.35   \n412               0              1.95   \n458               0              6.64   \n544               0              1.43   \n\n                                       Hotel Name  \\\n40                                Hotel hewa bora   \n249        Kangcheng Jian Guo International Hotel   \n293                                   Grand Hotel   \n356                      Shangri-La Hotel, Suzhou   \n363      DoubleTree by Hilton Hotel Alice Springs   \n378                                                 \n412  Accord Le Rose Hotel Taranto Palagiano Hotel   \n458                                 Alrwasi Hotel   \n544                         Naghshe shapoor Hotel   \n\n                                                  City Country Hotel Lat  \\\n40                                              Manono          -7.29285   \n249    No 618 East Jiaotong Road Korla Xinjiang, Korla           41.7721   \n293            Şehit Harun Boy, İpek Yolu Cad., Silopi           37.2409   \n356  168 Tayuan Rd, Shishan Mountain, Huqiu Distric...           31.2922   \n363                       82 Barrett Dr, Alice Springs           -23.715   \n378                                                                        \n412  Viale Chiatona 105Palagiano TarantoTA 74100, T...           40.5765   \n458                                      houn-aljoufra           29.1171   \n544          Darab, Daneshjoo Boulevard، Pasdaran Blv.           28.7606   \n\n    Hotel Lon  \n40    27.3958  \n249    86.159  \n293   42.4793  \n356   120.559  \n363   133.879  \n378            \n412   17.0411  \n458   15.9159  \n544    54.562  ",
      "text/html": "<div>\n<style scoped>\n    .dataframe tbody tr th:only-of-type {\n        vertical-align: middle;\n    }\n\n    .dataframe tbody tr th {\n        vertical-align: top;\n    }\n\n    .dataframe thead th {\n        text-align: right;\n    }\n</style>\n<table border=\"1\" class=\"dataframe\">\n  <thead>\n    <tr style=\"text-align: right;\">\n      <th></th>\n      <th>Unnamed: 0</th>\n      <th>Cities</th>\n      <th>Lat</th>\n      <th>Lon</th>\n      <th>Temp (F)</th>\n      <th>Humidity (%)</th>\n      <th>Cloudiness (%)</th>\n      <th>Wind Speed (mph)</th>\n      <th>Hotel Name</th>\n      <th>City</th>\n      <th>Country</th>\n      <th>Hotel Lat</th>\n      <th>Hotel Lon</th>\n    </tr>\n  </thead>\n  <tbody>\n    <tr>\n      <th>40</th>\n      <td>45</td>\n      <td>manono</td>\n      <td>-7.30</td>\n      <td>27.42</td>\n      <td>72.70</td>\n      <td>30</td>\n      <td>0</td>\n      <td>4.05</td>\n      <td>Hotel hewa bora</td>\n      <td>Manono</td>\n      <td></td>\n      <td>-7.29285</td>\n      <td>27.3958</td>\n    </tr>\n    <tr>\n      <th>249</th>\n      <td>280</td>\n      <td>korla</td>\n      <td>41.76</td>\n      <td>86.15</td>\n      <td>71.01</td>\n      <td>52</td>\n      <td>0</td>\n      <td>1.99</td>\n      <td>Kangcheng Jian Guo International Hotel</td>\n      <td>No 618 East Jiaotong Road Korla Xinjiang, Korla</td>\n      <td></td>\n      <td>41.7721</td>\n      <td>86.159</td>\n    </tr>\n    <tr>\n      <th>293</th>\n      <td>329</td>\n      <td>silopi</td>\n      <td>37.25</td>\n      <td>42.47</td>\n      <td>79.29</td>\n      <td>18</td>\n      <td>0</td>\n      <td>2.01</td>\n      <td>Grand Hotel</td>\n      <td>Şehit Harun Boy, İpek Yolu Cad., Silopi</td>\n      <td></td>\n      <td>37.2409</td>\n      <td>42.4793</td>\n    </tr>\n    <tr>\n      <th>356</th>\n      <td>401</td>\n      <td>mudu</td>\n      <td>31.25</td>\n      <td>120.51</td>\n      <td>78.01</td>\n      <td>69</td>\n      <td>0</td>\n      <td>5.66</td>\n      <td>Shangri-La Hotel, Suzhou</td>\n      <td>168 Tayuan Rd, Shishan Mountain, Huqiu Distric...</td>\n      <td></td>\n      <td>31.2922</td>\n      <td>120.559</td>\n    </tr>\n    <tr>\n      <th>363</th>\n      <td>408</td>\n      <td>alice springs</td>\n      <td>-23.70</td>\n      <td>133.88</td>\n      <td>71.89</td>\n      <td>18</td>\n      <td>0</td>\n      <td>9.17</td>\n      <td>DoubleTree by Hilton Hotel Alice Springs</td>\n      <td>82 Barrett Dr, Alice Springs</td>\n      <td></td>\n      <td>-23.715</td>\n      <td>133.879</td>\n    </tr>\n    <tr>\n      <th>378</th>\n      <td>425</td>\n      <td>najran</td>\n      <td>17.49</td>\n      <td>44.13</td>\n      <td>77.00</td>\n      <td>27</td>\n      <td>0</td>\n      <td>2.35</td>\n      <td></td>\n      <td></td>\n      <td></td>\n      <td></td>\n      <td></td>\n    </tr>\n    <tr>\n      <th>412</th>\n      <td>468</td>\n      <td>palagiano</td>\n      <td>40.58</td>\n      <td>17.04</td>\n      <td>72.37</td>\n      <td>65</td>\n      <td>0</td>\n      <td>1.95</td>\n      <td>Accord Le Rose Hotel Taranto Palagiano Hotel</td>\n      <td>Viale Chiatona 105Palagiano TarantoTA 74100, T...</td>\n      <td></td>\n      <td>40.5765</td>\n      <td>17.0411</td>\n    </tr>\n    <tr>\n      <th>458</th>\n      <td>518</td>\n      <td>hun</td>\n      <td>29.13</td>\n      <td>15.95</td>\n      <td>74.79</td>\n      <td>56</td>\n      <td>0</td>\n      <td>6.64</td>\n      <td>Alrwasi Hotel</td>\n      <td>houn-aljoufra</td>\n      <td></td>\n      <td>29.1171</td>\n      <td>15.9159</td>\n    </tr>\n    <tr>\n      <th>544</th>\n      <td>620</td>\n      <td>darab</td>\n      <td>28.75</td>\n      <td>54.54</td>\n      <td>74.35</td>\n      <td>37</td>\n      <td>0</td>\n      <td>1.43</td>\n      <td>Naghshe shapoor Hotel</td>\n      <td>Darab, Daneshjoo Boulevard، Pasdaran Blv.</td>\n      <td></td>\n      <td>28.7606</td>\n      <td>54.562</td>\n    </tr>\n  </tbody>\n</table>\n</div>"
     },
     "metadata": {},
     "execution_count": 98
    }
   ],
   "source": [
    "dest_df.head(10)"
   ]
  },
  {
   "cell_type": "code",
   "execution_count": 82,
   "metadata": {
    "tags": []
   },
   "outputs": [
    {
     "output_type": "stream",
     "name": "stdout",
     "text": "[-7.292854699999999, 41.772123, 37.2408829, 31.2921597, -23.7150157, 40.576486, 29.1171477, 28.7605701]\n"
    }
   ],
   "source": [
    "#print(markers_lat)"
   ]
  },
  {
   "cell_type": "code",
   "execution_count": 88,
   "metadata": {},
   "outputs": [],
   "source": [
    "#markers = zip(markers_lat,markers_lon)"
   ]
  },
  {
   "cell_type": "code",
   "execution_count": 89,
   "metadata": {
    "tags": []
   },
   "outputs": [
    {
     "output_type": "stream",
     "name": "stdout",
     "text": "[(-7.292854699999999, 27.3958247), (41.772123, 86.158971), (37.2408829, 42.47926330000001), (31.2921597, 120.5590259), (-23.7150157, 133.879153), (40.576486, 17.041128), (29.1171477, 15.9158511), (28.7605701, 54.5619665)]\n"
    }
   ],
   "source": [
    "#print(list(markers))"
   ]
  },
  {
   "cell_type": "code",
   "execution_count": 93,
   "metadata": {},
   "outputs": [],
   "source": [
    "#markers_df = pd.DataFrame(markers, columns=[\"hotel_lat\",\"hotel_lon\"])"
   ]
  },
  {
   "cell_type": "code",
   "execution_count": 107,
   "metadata": {},
   "outputs": [
    {
     "output_type": "display_data",
     "data": {
      "text/plain": "Figure(layout=FigureLayout(height='420px'))",
      "application/vnd.jupyter.widget-view+json": {
       "version_major": 2,
       "version_minor": 0,
       "model_id": "25b8b108e7e147609508281f81bd36b9"
      }
     },
     "metadata": {}
    }
   ],
   "source": [
    "manono = gmaps.Marker((-7.29,27.4), info_box_content=\"Hotel hewa bora\")\n",
    "korla = gmaps.Marker((41.77,86.16), info_box_content=\"Kangcheng Jian Guo International Hotel\")\n",
    "silopi = gmaps.Marker((41.77,86.16), info_box_content=\"Grand Hotel\")\n",
    "mudu = gmaps.Marker((37.24,42.48), info_box_content=\"Shangri-La Hotel, Suzhou\")\n",
    "alice_springs = gmaps.Marker((-23.72,133.88), info_box_content=\"DoubleTree by Hilton Hotel Alice Springs\")\n",
    "palagiano = gmaps.Marker((40.58,17.04), info_box_content=\"Accord Le Rose Hotel Taranto Palagiano Hotel\")\n",
    "hun = gmaps.Marker((29.12,15.92), info_box_content=\"Alrwasi Hotel\")\n",
    "darab = gmaps.Marker((28.76,54.56), info_box_content=\"Naghshe shapoor Hotel\")\n",
    "\n",
    "drawing = gmaps.drawing_layer(features=[manono,korla,silopi,mudu,alice_springs,palagiano,hun,darab])\n",
    "\n",
    "fig.add_layer(drawing)\n",
    "\n",
    "fig"
   ]
  },
  {
   "cell_type": "code",
   "execution_count": null,
   "metadata": {},
   "outputs": [],
   "source": []
  }
 ]
}