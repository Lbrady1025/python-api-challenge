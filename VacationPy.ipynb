{
 "metadata": {
  "language_info": {
   "codemirror_mode": {
    "name": "ipython",
    "version": 3
   },
   "file_extension": ".py",
   "mimetype": "text/x-python",
   "name": "python",
   "nbconvert_exporter": "python",
   "pygments_lexer": "ipython3",
   "version": "3.8.3-final"
  },
  "orig_nbformat": 2,
  "kernelspec": {
   "name": "python3",
   "display_name": "Python 3"
  }
 },
 "nbformat": 4,
 "nbformat_minor": 2,
 "cells": [
  {
   "cell_type": "code",
   "execution_count": 49,
   "metadata": {},
   "outputs": [],
   "source": [
    "#Dependencies\n",
    "import pandas as pd \n",
    "import numpy as np \n",
    "import gmaps\n",
    "import json\n",
    "\n",
    "from gconfig import gkey\n",
    "gmaps.configure(api_key=gkey)"
   ]
  },
  {
   "cell_type": "code",
   "execution_count": 21,
   "metadata": {},
   "outputs": [
    {
     "output_type": "execute_result",
     "data": {
      "text/plain": "   Unnamed: 0        Cities    Lat     Lon  Temp (F)  Humidity (%)  \\\n0           0   new norfolk -42.78  147.06     52.20            64   \n1           1   tuktoyaktuk  69.45 -133.04     37.40            71   \n2           2  punta arenas -53.15  -70.92     41.00            75   \n3           3       hanting  36.77  119.21     77.45            67   \n4           4       rikitea -23.12 -134.97     72.28            80   \n\n   Cloudiness (%)  Wind Speed (mph)  \n0              67              4.00  \n1              90              8.05  \n2              20             10.29  \n3              59              2.35  \n4              21             12.08  ",
      "text/html": "<div>\n<style scoped>\n    .dataframe tbody tr th:only-of-type {\n        vertical-align: middle;\n    }\n\n    .dataframe tbody tr th {\n        vertical-align: top;\n    }\n\n    .dataframe thead th {\n        text-align: right;\n    }\n</style>\n<table border=\"1\" class=\"dataframe\">\n  <thead>\n    <tr style=\"text-align: right;\">\n      <th></th>\n      <th>Unnamed: 0</th>\n      <th>Cities</th>\n      <th>Lat</th>\n      <th>Lon</th>\n      <th>Temp (F)</th>\n      <th>Humidity (%)</th>\n      <th>Cloudiness (%)</th>\n      <th>Wind Speed (mph)</th>\n    </tr>\n  </thead>\n  <tbody>\n    <tr>\n      <th>0</th>\n      <td>0</td>\n      <td>new norfolk</td>\n      <td>-42.78</td>\n      <td>147.06</td>\n      <td>52.20</td>\n      <td>64</td>\n      <td>67</td>\n      <td>4.00</td>\n    </tr>\n    <tr>\n      <th>1</th>\n      <td>1</td>\n      <td>tuktoyaktuk</td>\n      <td>69.45</td>\n      <td>-133.04</td>\n      <td>37.40</td>\n      <td>71</td>\n      <td>90</td>\n      <td>8.05</td>\n    </tr>\n    <tr>\n      <th>2</th>\n      <td>2</td>\n      <td>punta arenas</td>\n      <td>-53.15</td>\n      <td>-70.92</td>\n      <td>41.00</td>\n      <td>75</td>\n      <td>20</td>\n      <td>10.29</td>\n    </tr>\n    <tr>\n      <th>3</th>\n      <td>3</td>\n      <td>hanting</td>\n      <td>36.77</td>\n      <td>119.21</td>\n      <td>77.45</td>\n      <td>67</td>\n      <td>59</td>\n      <td>2.35</td>\n    </tr>\n    <tr>\n      <th>4</th>\n      <td>4</td>\n      <td>rikitea</td>\n      <td>-23.12</td>\n      <td>-134.97</td>\n      <td>72.28</td>\n      <td>80</td>\n      <td>21</td>\n      <td>12.08</td>\n    </tr>\n  </tbody>\n</table>\n</div>"
     },
     "metadata": {},
     "execution_count": 21
    }
   ],
   "source": [
    "file_path = \"Results/WeatherPy/citydata.csv\"\n",
    "citydata_df = pd.read_csv(file_path)\n",
    "citydata_df.head()"
   ]
  },
  {
   "cell_type": "code",
   "execution_count": 16,
   "metadata": {},
   "outputs": [],
   "source": [
    "locations = citydata_df[[\"Lat\",\"Lon\"]]\n",
    "humidity = citydata_df[\"Humidity (%)\"].astype(float)"
   ]
  },
  {
   "cell_type": "code",
   "execution_count": 33,
   "metadata": {},
   "outputs": [
    {
     "output_type": "display_data",
     "data": {
      "text/plain": "Figure(layout=FigureLayout(height='420px'))",
      "application/vnd.jupyter.widget-view+json": {
       "version_major": 2,
       "version_minor": 0,
       "model_id": "25b8b108e7e147609508281f81bd36b9"
      }
     },
     "metadata": {}
    }
   ],
   "source": [
    "figure_layout = {\"width\":\"400px\",\"height\":\"600px\",\"margin\":\"0 auto 0 auto\"}\n",
    "fig = gmaps.figure(figure_layout,center=(46.0,-5.0),zoom_level=2)\n",
    "\n",
    "heat_layer = gmaps.heatmap_layer(locations,weights=humidity,dissipating=False,max_intensity=100,point_radius=2)\n",
    "\n",
    "fig.add_layer(heat_layer)\n",
    "\n",
    "fig"
   ]
  },
  {
   "cell_type": "code",
   "execution_count": 48,
   "metadata": {},
   "outputs": [
    {
     "output_type": "execute_result",
     "data": {
      "text/plain": "     Unnamed: 0         Cities    Lat     Lon  Temp (F)  Humidity (%)  \\\n40           45         manono  -7.30   27.42     72.70            30   \n249         280          korla  41.76   86.15     71.01            52   \n293         329         silopi  37.25   42.47     79.29            18   \n356         401           mudu  31.25  120.51     78.01            69   \n363         408  alice springs -23.70  133.88     71.89            18   \n378         425         najran  17.49   44.13     77.00            27   \n412         468      palagiano  40.58   17.04     72.37            65   \n458         518            hun  29.13   15.95     74.79            56   \n544         620          darab  28.75   54.54     74.35            37   \n\n     Cloudiness (%)  Wind Speed (mph)  \n40                0              4.05  \n249               0              1.99  \n293               0              2.01  \n356               0              5.66  \n363               0              9.17  \n378               0              2.35  \n412               0              1.95  \n458               0              6.64  \n544               0              1.43  ",
      "text/html": "<div>\n<style scoped>\n    .dataframe tbody tr th:only-of-type {\n        vertical-align: middle;\n    }\n\n    .dataframe tbody tr th {\n        vertical-align: top;\n    }\n\n    .dataframe thead th {\n        text-align: right;\n    }\n</style>\n<table border=\"1\" class=\"dataframe\">\n  <thead>\n    <tr style=\"text-align: right;\">\n      <th></th>\n      <th>Unnamed: 0</th>\n      <th>Cities</th>\n      <th>Lat</th>\n      <th>Lon</th>\n      <th>Temp (F)</th>\n      <th>Humidity (%)</th>\n      <th>Cloudiness (%)</th>\n      <th>Wind Speed (mph)</th>\n    </tr>\n  </thead>\n  <tbody>\n    <tr>\n      <th>40</th>\n      <td>45</td>\n      <td>manono</td>\n      <td>-7.30</td>\n      <td>27.42</td>\n      <td>72.70</td>\n      <td>30</td>\n      <td>0</td>\n      <td>4.05</td>\n    </tr>\n    <tr>\n      <th>249</th>\n      <td>280</td>\n      <td>korla</td>\n      <td>41.76</td>\n      <td>86.15</td>\n      <td>71.01</td>\n      <td>52</td>\n      <td>0</td>\n      <td>1.99</td>\n    </tr>\n    <tr>\n      <th>293</th>\n      <td>329</td>\n      <td>silopi</td>\n      <td>37.25</td>\n      <td>42.47</td>\n      <td>79.29</td>\n      <td>18</td>\n      <td>0</td>\n      <td>2.01</td>\n    </tr>\n    <tr>\n      <th>356</th>\n      <td>401</td>\n      <td>mudu</td>\n      <td>31.25</td>\n      <td>120.51</td>\n      <td>78.01</td>\n      <td>69</td>\n      <td>0</td>\n      <td>5.66</td>\n    </tr>\n    <tr>\n      <th>363</th>\n      <td>408</td>\n      <td>alice springs</td>\n      <td>-23.70</td>\n      <td>133.88</td>\n      <td>71.89</td>\n      <td>18</td>\n      <td>0</td>\n      <td>9.17</td>\n    </tr>\n    <tr>\n      <th>378</th>\n      <td>425</td>\n      <td>najran</td>\n      <td>17.49</td>\n      <td>44.13</td>\n      <td>77.00</td>\n      <td>27</td>\n      <td>0</td>\n      <td>2.35</td>\n    </tr>\n    <tr>\n      <th>412</th>\n      <td>468</td>\n      <td>palagiano</td>\n      <td>40.58</td>\n      <td>17.04</td>\n      <td>72.37</td>\n      <td>65</td>\n      <td>0</td>\n      <td>1.95</td>\n    </tr>\n    <tr>\n      <th>458</th>\n      <td>518</td>\n      <td>hun</td>\n      <td>29.13</td>\n      <td>15.95</td>\n      <td>74.79</td>\n      <td>56</td>\n      <td>0</td>\n      <td>6.64</td>\n    </tr>\n    <tr>\n      <th>544</th>\n      <td>620</td>\n      <td>darab</td>\n      <td>28.75</td>\n      <td>54.54</td>\n      <td>74.35</td>\n      <td>37</td>\n      <td>0</td>\n      <td>1.43</td>\n    </tr>\n  </tbody>\n</table>\n</div>"
     },
     "metadata": {},
     "execution_count": 48
    }
   ],
   "source": [
    "temp_df = citydata_df.loc[citydata_df[\"Temp (F)\"] > 70]\n",
    "good_temp_df = temp_df.loc[temp_df[\"Temp (F)\"] <= 80]\n",
    "no_wind_df = good_temp_df.loc[good_temp_df[\"Wind Speed (mph)\"] < 10]\n",
    "no_clouds_df = no_wind_df.loc[no_wind_df[\"Cloudiness (%)\"] == 0]\n",
    "dest_df = no_clouds_df.loc[no_clouds_df[\"Humidity (%)\"] < 75]\n",
    "dest_df.head(9)"
   ]
  },
  {
   "cell_type": "code",
   "execution_count": null,
   "metadata": {},
   "outputs": [],
   "source": []
  }
 ]
}